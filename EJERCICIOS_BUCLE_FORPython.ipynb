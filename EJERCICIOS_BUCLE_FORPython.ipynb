{
  "nbformat": 4,
  "nbformat_minor": 0,
  "metadata": {
    "colab": {
      "provenance": [],
      "authorship_tag": "ABX9TyOJATmCttT04JY/qOCOS4No",
      "include_colab_link": true
    },
    "kernelspec": {
      "name": "python3",
      "display_name": "Python 3"
    },
    "language_info": {
      "name": "python"
    }
  },
  "cells": [
    {
      "cell_type": "markdown",
      "metadata": {
        "id": "view-in-github",
        "colab_type": "text"
      },
      "source": [
        "<a href=\"https://colab.research.google.com/github/MarioCid90/EJERCICIOS-DE-INICIACI-N-A-PYTHON/blob/main/EJERCICIOS_BUCLE_FORPython.ipynb\" target=\"_parent\"><img src=\"https://colab.research.google.com/assets/colab-badge.svg\" alt=\"Open In Colab\"/></a>"
      ]
    },
    {
      "cell_type": "code",
      "source": [
        "#3- Escribe un programa que muestre los paises: Canada, usa, mexico, cuba\n",
        "paises = ('Canada','Mexico', 'usa','Cuba')\n",
        "for orden in paises:\n",
        "  print(orden, end=' ')"
      ],
      "metadata": {
        "colab": {
          "base_uri": "https://localhost:8080/"
        },
        "id": "rioOVQgdc8PE",
        "outputId": "0dce2530-d382-4a7e-f522-770378d21846"
      },
      "execution_count": 54,
      "outputs": [
        {
          "output_type": "stream",
          "name": "stdout",
          "text": [
            "Canada Mexico usa Cuba "
          ]
        }
      ]
    },
    {
      "cell_type": "code",
      "source": [
        "#1- Crea Una figura con la letra 'W' que empiece con una unidad y termine con el número ingresado.\n",
        "n=int(input('Ingrese un numero: '))\n",
        "for i in range(n, 0, -1):\n",
        "    print('W'*i)"
      ],
      "metadata": {
        "colab": {
          "base_uri": "https://localhost:8080/"
        },
        "id": "eDZPyT_8dIc9",
        "outputId": "62843b92-e671-4822-87ea-b83082b58efb"
      },
      "execution_count": 56,
      "outputs": [
        {
          "output_type": "stream",
          "name": "stdout",
          "text": [
            "Ingrese un numero: 5\n",
            "WWWWW\n",
            "WWWW\n",
            "WWW\n",
            "WW\n",
            "W\n"
          ]
        }
      ]
    },
    {
      "cell_type": "code",
      "source": [
        "#2- Crea un bucle en el que se introduzca una palabra y esta se repita 10 veces\n",
        "p=input('ingrese una palabra: ')\n",
        "for veces in range(10):\n",
        "  print(p)"
      ],
      "metadata": {
        "colab": {
          "base_uri": "https://localhost:8080/"
        },
        "id": "6mPy-uJCdCCF",
        "outputId": "b8613bdb-4b9e-40d5-b218-beebfd7f4fb4"
      },
      "execution_count": 55,
      "outputs": [
        {
          "output_type": "stream",
          "name": "stdout",
          "text": [
            "ingrese una palabra: Mario\n",
            "Mario\n",
            "Mario\n",
            "Mario\n",
            "Mario\n",
            "Mario\n",
            "Mario\n",
            "Mario\n",
            "Mario\n",
            "Mario\n",
            "Mario\n"
          ]
        }
      ]
    },
    {
      "cell_type": "code",
      "source": [
        "#4- Crea un bucle que muestre números desde - 500 hasta -5000\n",
        "for numeros in range(0, -5500, -500):\n",
        "  print(numeros)"
      ],
      "metadata": {
        "colab": {
          "base_uri": "https://localhost:8080/"
        },
        "id": "pNCUlB_6c330",
        "outputId": "1e178ddf-fb30-4ed1-ca77-878ec1bb2233"
      },
      "execution_count": 53,
      "outputs": [
        {
          "output_type": "stream",
          "name": "stdout",
          "text": [
            "0\n",
            "-500\n",
            "-1000\n",
            "-1500\n",
            "-2000\n",
            "-2500\n",
            "-3000\n",
            "-3500\n",
            "-4000\n",
            "-4500\n",
            "-5000\n"
          ]
        }
      ]
    },
    {
      "cell_type": "code",
      "source": [
        "#5- Crea un bucle en el que ingreses un número y se muestre el cubo de todos los números hasta llegar al indicado\n",
        "numero= int(input('ingrese un número: '))\n",
        "\n",
        "for n in range(0, numero + 1):\n",
        "  print('el número es: ', n, 'y su cubo ', n ** 3)"
      ],
      "metadata": {
        "colab": {
          "base_uri": "https://localhost:8080/"
        },
        "id": "tfMWZ1CBcwc8",
        "outputId": "25a1475e-9361-49e3-f613-924538eecae7"
      },
      "execution_count": 51,
      "outputs": [
        {
          "output_type": "stream",
          "name": "stdout",
          "text": [
            "ingrese un número: 5\n",
            "el número es:  0 y su cubo  0\n",
            "el número es:  1 y su cubo  1\n",
            "el número es:  2 y su cubo  8\n",
            "el número es:  3 y su cubo  27\n",
            "el número es:  4 y su cubo  64\n",
            "el número es:  5 y su cubo  125\n"
          ]
        }
      ]
    },
    {
      "cell_type": "code",
      "source": [
        "#6- Crea un bucle en el que muestre números del 1 al 10 e indique cuales son par y cuales impar\n",
        "for i in range(1, 11):\n",
        "  if (i%2==0):\n",
        "    print(i,'es un numero par')\n",
        "  else:\n",
        "     print(i, 'es un numero impar')\n",
        "print('fin del programa')"
      ],
      "metadata": {
        "colab": {
          "base_uri": "https://localhost:8080/"
        },
        "id": "pFqJQGdjcqb8",
        "outputId": "284a6b0d-bfdc-4db5-aa28-94e5a23bebc7"
      },
      "execution_count": 50,
      "outputs": [
        {
          "output_type": "stream",
          "name": "stdout",
          "text": [
            "1 es un numero impar\n",
            "2 es un numero par\n",
            "3 es un numero impar\n",
            "4 es un numero par\n",
            "5 es un numero impar\n",
            "6 es un numero par\n",
            "7 es un numero impar\n",
            "8 es un numero par\n",
            "9 es un numero impar\n",
            "10 es un numero par\n",
            "fin del programa\n"
          ]
        }
      ]
    },
    {
      "cell_type": "code",
      "source": [
        "# 8- #numeros del 10 55 no multiplos de 3, pares y no aparece el 16\n",
        "for numero in range(10, 55, 2):\n",
        "  if numero != 16 and numero % 3 != 0:\n",
        "    print(numero)"
      ],
      "metadata": {
        "colab": {
          "base_uri": "https://localhost:8080/"
        },
        "id": "4bnIeDJ6clB1",
        "outputId": "a5b399c9-f78c-4ae9-eea5-58d9fef7abc8"
      },
      "execution_count": 49,
      "outputs": [
        {
          "output_type": "stream",
          "name": "stdout",
          "text": [
            "10\n",
            "14\n",
            "20\n",
            "22\n",
            "26\n",
            "28\n",
            "32\n",
            "34\n",
            "38\n",
            "40\n",
            "44\n",
            "46\n",
            "50\n",
            "52\n"
          ]
        }
      ]
    },
    {
      "cell_type": "code",
      "source": [
        "#7-numeros de la lista menos el número 10 y acabamos el bucle\n",
        "#cuando encuentre el 356: aplica la funcion sort() a la variable para encontrar los numeros.\n",
        "#Usa elcontinuepara saltar 10 despues del if\n",
        "#usa el break después de elif para acabar bucle 'antes del tiempo'\n",
        "\n",
        "#forma 1 (sin break ni continue)\n",
        "# lista=[10, 45, 356, 10, 10, 10, 46, 67,45,10, 10, 43, 10, 65, 10, 10]\n",
        "# lista.sort()\n",
        "# for bucle in lista:\n",
        "#  if bucle != 10 and bucle != 356:\n",
        "#     print(bucle)\n",
        "\n",
        "#forma 2\n",
        "lista=[10, 45, 356, 10, 10, 10, 46, 67,45,10, 10, 43, 10, 65, 10, 10]\n",
        "lista.sort()\n",
        "for bucle in lista:\n",
        "  if bucle == 10:\n",
        "   continue\n",
        "  elif bucle == 356:\n",
        "   break\n",
        "  print(bucle)"
      ],
      "metadata": {
        "colab": {
          "base_uri": "https://localhost:8080/"
        },
        "id": "PZdGtp-VcJLE",
        "outputId": "572e3a07-2502-44bb-d656-d5ec9c7f1431"
      },
      "execution_count": 48,
      "outputs": [
        {
          "output_type": "stream",
          "name": "stdout",
          "text": [
            "43\n",
            "45\n",
            "45\n",
            "46\n",
            "65\n",
            "67\n"
          ]
        }
      ]
    },
    {
      "cell_type": "code",
      "source": [
        "#-8 #pide el usuario un numero entero positivo, y muestra en la pantalla cuenta atrás hasta el 0 separado por comas\n",
        "\n",
        "n = int(input('dame un numero: '))\n",
        "for numero in range(n, -1, -1):\n",
        "  if numero != 0:\n",
        "    print(numero, end =',')\n",
        "  elif numero == 0:\n",
        "    print(numero)"
      ],
      "metadata": {
        "colab": {
          "base_uri": "https://localhost:8080/"
        },
        "id": "7uKMGQ9ZcDFs",
        "outputId": "efe8a539-e8e0-417e-95cd-4e5d5b908f96"
      },
      "execution_count": 41,
      "outputs": [
        {
          "output_type": "stream",
          "name": "stdout",
          "text": [
            "dame un numero: 5\n",
            "5,4,3,2,1,0\n"
          ]
        }
      ]
    },
    {
      "cell_type": "code",
      "source": [
        "# -9 Crear uhna figura cuadrada con el símbolo '$'\n",
        "n=int(input('Ingrese un numero: '))\n",
        "for i in range(n):\n",
        "    print('$'*(n*2))"
      ],
      "metadata": {
        "colab": {
          "base_uri": "https://localhost:8080/"
        },
        "id": "0EaR8a7fb8e4",
        "outputId": "4950d311-5072-42bb-e6b1-19a4291d12d3"
      },
      "execution_count": 40,
      "outputs": [
        {
          "output_type": "stream",
          "name": "stdout",
          "text": [
            "Ingrese un numero: 5\n",
            "$$$$$$$$$$\n",
            "$$$$$$$$$$\n",
            "$$$$$$$$$$\n",
            "$$$$$$$$$$\n",
            "$$$$$$$$$$\n"
          ]
        }
      ]
    },
    {
      "cell_type": "code",
      "source": [
        "# 10- Ingresa 5 veces el nombre de frutas y al final que diga cuantas veces has ingresado la palabra melocotonazo\n",
        "contador_frutas = 0\n",
        "for i in range(5):\n",
        "  fruta =input('ingresa una fruta: ')\n",
        "  if fruta == 'melocotonazo':\n",
        "    contador_frutas += 1\n",
        "\n",
        "print('se ingresaron ', contador_frutas, 'veces la fruta melocotonazo')"
      ],
      "metadata": {
        "colab": {
          "base_uri": "https://localhost:8080/"
        },
        "id": "q-qg6FxnbxGI",
        "outputId": "382c5e44-21d9-45ce-b9d2-acedde3c600f"
      },
      "execution_count": 59,
      "outputs": [
        {
          "output_type": "stream",
          "name": "stdout",
          "text": [
            "ingresa una fruta: melocotonazo\n",
            "ingresa una fruta: melocotonazo\n",
            "ingresa una fruta: pera\n",
            "ingresa una fruta: fruta\n",
            "ingresa una fruta: granada\n",
            "se ingresaron  2 veces la fruta melocotonazo\n"
          ]
        }
      ]
    },
    {
      "cell_type": "code",
      "source": [
        "#11- Crea una lista de letras y un bucle que indique cuantas veces se repite la letra 'a' dentro d ela lista\n",
        "contador_letra=0\n",
        "letras=['a', 'b', 'c', 'd', 'e']\n",
        "for letra in letras:\n",
        "  if letra == 'a':\n",
        "    contador_letra += 1\n",
        "print('la letra a se repite', contador_letra, 'veces')"
      ],
      "metadata": {
        "colab": {
          "base_uri": "https://localhost:8080/"
        },
        "id": "K5LsIgNjbhXN",
        "outputId": "fca04574-c47b-4ddb-cb72-6dd601f0f70c"
      },
      "execution_count": 38,
      "outputs": [
        {
          "output_type": "stream",
          "name": "stdout",
          "text": [
            "la letra a se repite 1 veces\n"
          ]
        }
      ]
    },
    {
      "cell_type": "code",
      "source": [
        "#12- Crea una lista de nombres que te diga que nombre has ingresado cada vez\n",
        "lista_nombres=[]\n",
        "for i in range(4):\n",
        "  nombre=input('ingresa un nombre: ')\n",
        "  lista_nombres.append(nombre)\n",
        "  print('los nombres ingresados son: ', lista_nombres)"
      ],
      "metadata": {
        "colab": {
          "base_uri": "https://localhost:8080/"
        },
        "id": "ySfWByRcbXhM",
        "outputId": "f7f0bd67-c1b7-4a0b-ed31-e7dd6527fa6e"
      },
      "execution_count": 60,
      "outputs": [
        {
          "output_type": "stream",
          "name": "stdout",
          "text": [
            "ingresa un nombre: MArio\n",
            "los nombres ingresados son:  ['MArio']\n",
            "ingresa un nombre: Pedro\n",
            "los nombres ingresados son:  ['MArio', 'Pedro']\n",
            "ingresa un nombre: Juan\n",
            "los nombres ingresados son:  ['MArio', 'Pedro', 'Juan']\n",
            "ingresa un nombre: Carlos\n",
            "los nombres ingresados son:  ['MArio', 'Pedro', 'Juan', 'Carlos']\n"
          ]
        }
      ]
    },
    {
      "cell_type": "code",
      "source": [
        "#14- Escribe programa que pida el usuario su edad y muestra en pantalla todos los años que ha cumplido desde 1 hasta su edad\n",
        "#ej: cuantos años tienes? 12\n",
        "#has cumplido 1 año etc...\n",
        "\n",
        "usuario = int(input('¿Cuantos años tienes? '))\n",
        "for edad in range(usuario):\n",
        "  print('has cumplido ', edad + 1, ' años')"
      ],
      "metadata": {
        "colab": {
          "base_uri": "https://localhost:8080/"
        },
        "id": "Elc5XeP4bMSF",
        "outputId": "f8c2153c-558d-4f39-a64c-8e52f8300c05"
      },
      "execution_count": 61,
      "outputs": [
        {
          "output_type": "stream",
          "name": "stdout",
          "text": [
            "¿Cuantos años tienes? 12\n",
            "has cumplido  1  años\n",
            "has cumplido  2  años\n",
            "has cumplido  3  años\n",
            "has cumplido  4  años\n",
            "has cumplido  5  años\n",
            "has cumplido  6  años\n",
            "has cumplido  7  años\n",
            "has cumplido  8  años\n",
            "has cumplido  9  años\n",
            "has cumplido  10  años\n",
            "has cumplido  11  años\n",
            "has cumplido  12  años\n"
          ]
        }
      ]
    },
    {
      "cell_type": "code",
      "source": [
        "#15- Crear lista con los 7 dias de la semana\n",
        "#para cada día el programa debe mostrar la palabra seguida la longitud de la palabra\n",
        "#ejemplo lunes=5\n",
        "\n",
        "dias=['Lunes', 'Martes', 'Miércoles', 'Jueves', 'Viernes', 'Sábado', 'Domingo']\n",
        "for semana in dias:\n",
        "  print(f'la palabra', semana, 'tiene', len(semana), 'número de letras')"
      ],
      "metadata": {
        "colab": {
          "base_uri": "https://localhost:8080/"
        },
        "id": "oyFgrBrpbEP9",
        "outputId": "a1caeb32-62f4-4278-8335-cadaa2d857d3"
      },
      "execution_count": 63,
      "outputs": [
        {
          "output_type": "stream",
          "name": "stdout",
          "text": [
            "la palabra Lunes tiene 5 número de letras\n",
            "la palabra Martes tiene 6 número de letras\n",
            "la palabra Miércoles tiene 9 número de letras\n",
            "la palabra Jueves tiene 6 número de letras\n",
            "la palabra Viernes tiene 7 número de letras\n",
            "la palabra Sábado tiene 6 número de letras\n",
            "la palabra Domingo tiene 7 número de letras\n"
          ]
        }
      ]
    },
    {
      "cell_type": "code",
      "source": [
        "# 16-Crea una figura con  el simbolo deol dolar, que empiece por uno, ascienda hasta el número ingrsado y vuelva  ahacer lo mismo a la inversa\n",
        "# (pirámide de lado o vela)\n",
        "n=int(input('escribe un número: '))\n",
        "for i in range(n + 1):\n",
        "  print(i * '$')\n",
        "for j in range(n, 0, -1):\n",
        "  print(j * '$')"
      ],
      "metadata": {
        "colab": {
          "base_uri": "https://localhost:8080/"
        },
        "id": "b_0C_Cntax0t",
        "outputId": "68abf352-956a-4440-948c-d80fd2d591c2"
      },
      "execution_count": 64,
      "outputs": [
        {
          "output_type": "stream",
          "name": "stdout",
          "text": [
            "escribe un número: 5\n",
            "\n",
            "$\n",
            "$$\n",
            "$$$\n",
            "$$$$\n",
            "$$$$$\n",
            "$$$$$\n",
            "$$$$\n",
            "$$$\n",
            "$$\n",
            "$\n"
          ]
        }
      ]
    },
    {
      "cell_type": "code",
      "source": [
        "# 17-partes del cuerpo usando for y para cada parteuna fraseque indique que accionhace cada una.\n",
        "#ejemplo: el pie se usa para pisar\n",
        "cuerpo={'la mano':'tocar', 'el cerebro':'pensar', 'los pies':'andar', 'el oído':'escuchar'}\n",
        "for i in cuerpo:\n",
        "  print(i, 'sirve para', cuerpo[i])\n",
        "\n"
      ],
      "metadata": {
        "colab": {
          "base_uri": "https://localhost:8080/"
        },
        "id": "SKIxWxwRaeLI",
        "outputId": "528ed65b-1d51-42b4-ca7f-3973ac4fb691"
      },
      "execution_count": 29,
      "outputs": [
        {
          "output_type": "stream",
          "name": "stdout",
          "text": [
            "la mano sirve para tocar\n",
            "el cerebro sirve para pensar\n",
            "los pies sirve para andar\n",
            "el oído sirve para escuchar\n"
          ]
        }
      ]
    },
    {
      "cell_type": "code",
      "source": [
        "# 18- pide al usuario cosas que le hacen feliz\n",
        "# #almacena estas cosas en listas\n",
        "# #for recorre la lista e imprime cada cosa que el usuario ha ingresado\n",
        "# #ejemplo: con x me siento feliz. x es cada una de lascosasque hace feliz\n",
        "\n",
        "#cosas=[]\n",
        "for i in range(1):\n",
        "  i=input('escribe que te hace feliz: ')\n",
        "for i1 in range(1):\n",
        "  i1=input('escribe otra cosa ')\n",
        "for i2 in range(1):\n",
        "  i2=input('escribe otra cosa ')\n",
        "\n",
        "print(f'con {i}, {i1} y {i2} me siento feliz')"
      ],
      "metadata": {
        "colab": {
          "base_uri": "https://localhost:8080/"
        },
        "id": "dQ4zvEaaaFmt",
        "outputId": "b0b81e86-654b-4e6d-c5a0-42f533697ed6"
      },
      "execution_count": 26,
      "outputs": [
        {
          "output_type": "stream",
          "name": "stdout",
          "text": [
            "escribe que te hace feliz: jugar\n",
            "escribe otra cosa cocinar\n",
            "escribe otra cosa empatar\n",
            "con jugar, cocinar y empatar me siento feliz\n"
          ]
        }
      ]
    },
    {
      "cell_type": "code",
      "source": [
        "# 19-\n",
        "feliz=[]\n",
        "for i in range(3):\n",
        "  escribe=input('escribe 3 cosas que te gusten ')\n",
        "  feliz.append(escribe)\n",
        "for i in feliz:\n",
        "  print(f'con {i} me siento feliz')"
      ],
      "metadata": {
        "colab": {
          "base_uri": "https://localhost:8080/"
        },
        "id": "Z8b4cnIiZ7k9",
        "outputId": "8a8208be-b471-4696-e5b4-40a4db342ed4"
      },
      "execution_count": 23,
      "outputs": [
        {
          "output_type": "stream",
          "name": "stdout",
          "text": [
            "escribe 3 cosas que te gusten ganar\n",
            "escribe 3 cosas que te gusten jugar\n",
            "escribe 3 cosas que te gusten cocinar\n",
            "con ganar me siento feliz\n",
            "con jugar me siento feliz\n",
            "con cocinar me siento feliz\n"
          ]
        }
      ]
    },
    {
      "cell_type": "code",
      "source": [
        "#20- escribe tu nombre en lenguaje binario\n",
        "binario=input('escribe tu nombre: ')\n",
        "for i in binario:\n",
        "  nombre=bin(ord(i))[2:]\n",
        "  print(nombre, end=' ')"
      ],
      "metadata": {
        "colab": {
          "base_uri": "https://localhost:8080/"
        },
        "id": "vq_0gQlhZrmE",
        "outputId": "fece8f2b-fe1e-4c4d-817b-d1c6ec1c98f3"
      },
      "execution_count": 21,
      "outputs": [
        {
          "output_type": "stream",
          "name": "stdout",
          "text": [
            "escribe tu nombre: Mario\n",
            "1001101 1100001 1110010 1101001 1101111 "
          ]
        }
      ]
    },
    {
      "cell_type": "code",
      "source": [
        "# 21-#ingresar un numero entero para mostrar tablade multiplicar\n",
        "tabla=int(input('ingresa un número '))\n",
        "for i in range(1, 11):\n",
        "  print(f'{tabla} x {i} = {tabla*i} ')"
      ],
      "metadata": {
        "colab": {
          "base_uri": "https://localhost:8080/"
        },
        "id": "teCPxGGTZnel",
        "outputId": "28791cfb-943b-483a-8a65-6c0a7e71db55"
      },
      "execution_count": 19,
      "outputs": [
        {
          "output_type": "stream",
          "name": "stdout",
          "text": [
            "ingresa un número 2\n",
            "2 x 1 = 2 \n",
            "2 x 2 = 4 \n",
            "2 x 3 = 6 \n",
            "2 x 4 = 8 \n",
            "2 x 5 = 10 \n",
            "2 x 6 = 12 \n",
            "2 x 7 = 14 \n",
            "2 x 8 = 16 \n",
            "2 x 9 = 18 \n",
            "2 x 10 = 20 \n"
          ]
        }
      ]
    },
    {
      "cell_type": "code",
      "source": [
        "#22- lista del 1 al 10\n",
        "lista=[]\n",
        "for i in range(11):\n",
        "  lista.append(i)\n",
        "print(lista)"
      ],
      "metadata": {
        "colab": {
          "base_uri": "https://localhost:8080/"
        },
        "id": "-FJkdUV2RLzT",
        "outputId": "f6849d05-1f21-469b-9b06-a68026b94ec0"
      },
      "execution_count": 18,
      "outputs": [
        {
          "output_type": "stream",
          "name": "stdout",
          "text": [
            "[0, 1, 2, 3, 4, 5, 6, 7, 8, 9, 10]\n"
          ]
        }
      ]
    },
    {
      "cell_type": "code",
      "source": [
        "#23- calcula la suma de todos los numero,por separado los pares y los impares.\n",
        "#inicializar 3 variables =0\n",
        "suma_numeros = 0\n",
        "suma_pares = 0\n",
        "suma_impares = 0\n",
        "numeros=int(input('introduce cantidad de números: '))\n",
        "\n",
        "for i in range(numeros):\n",
        "  n=int(input('introduce un número: '))\n",
        "  suma_numeros += n\n",
        "\n",
        "\n",
        "  if n % 2 == 0:\n",
        "    suma_pares += n\n",
        "\n",
        "  else:\n",
        "    suma_impares += n\n",
        "\n",
        "print('la suma de todos los numeros es: ', suma_numeros)\n",
        "print('suma de los numeros pares: ', suma_pares)\n",
        "print('suma de los numeros impares: ', suma_impares)"
      ],
      "metadata": {
        "colab": {
          "base_uri": "https://localhost:8080/"
        },
        "id": "n0vbkb0DQU_s",
        "outputId": "44c883ff-9cd2-4c2c-8024-2eff4695b53f"
      },
      "execution_count": 15,
      "outputs": [
        {
          "output_type": "stream",
          "name": "stdout",
          "text": [
            "introduce cantidad de números: 5\n",
            "introduce un número: 3\n",
            "introduce un número: 4\n",
            "introduce un número: 5\n",
            "introduce un número: 2\n",
            "introduce un número: 6\n",
            "la suma de todos los numeros es:  20\n",
            "suma de los numeros pares:  12\n",
            "suma de los numeros impares:  8\n"
          ]
        }
      ]
    },
    {
      "cell_type": "code",
      "source": [
        "#24-muestra cuadrado del tamaño indicado. la diagonal debe estar hecha de signos dolar\n",
        "numero = 5\n",
        "\n",
        "for a in range(numero):\n",
        "  for b in range(numero):\n",
        "    if a == b:\n",
        "      print('$', end='  ')\n",
        "    else:\n",
        "      print('#', end='  ')\n",
        "  print()"
      ],
      "metadata": {
        "colab": {
          "base_uri": "https://localhost:8080/"
        },
        "id": "3NVIK4CbQJ9j",
        "outputId": "1af48c33-52f2-43f4-b5d7-3b0dba13e286"
      },
      "execution_count": 9,
      "outputs": [
        {
          "output_type": "stream",
          "name": "stdout",
          "text": [
            "$  #  #  #  #  \n",
            "#  $  #  #  #  \n",
            "#  #  $  #  #  \n",
            "#  #  #  $  #  \n",
            "#  #  #  #  $  \n"
          ]
        }
      ]
    },
    {
      "cell_type": "code",
      "source": [
        "# 26-Crea una figura con el símbolo @ en forma de pirámide\n",
        "numero=int(input('ingresa un número: '))\n",
        "for a in range(numero):\n",
        "\n",
        "  for b in range(numero -a -1):\n",
        "    print(\" \", end=\"\")\n",
        "\n",
        "  for b in range(2 * a -1):\n",
        "    print(\"@\", end=\"\")\n",
        "\n",
        "  print()"
      ],
      "metadata": {
        "colab": {
          "base_uri": "https://localhost:8080/"
        },
        "id": "D9ATQD-GP66o",
        "outputId": "186a9367-1b5f-47c9-ca48-da525bd9465f"
      },
      "execution_count": 6,
      "outputs": [
        {
          "output_type": "stream",
          "name": "stdout",
          "text": [
            "ingresa un número: 5\n",
            "    \n",
            "   @\n",
            "  @@@\n",
            " @@@@@\n",
            "@@@@@@@\n"
          ]
        }
      ]
    },
    {
      "cell_type": "code",
      "source": [
        "# 31-Realiza la forma de un corazón co n el símbolo '*'\n",
        "numero=int(input('ingresa un número: '))\n",
        "for i in range(numero//2, numero, 2):\n",
        "  for j in range(1, numero-i, 2):\n",
        "    print(\" \", end=\"\")\n",
        "  for j in range(1, 1+i):\n",
        "    print(\"*\", end=\"\")\n",
        "  for j in range(1, numero-i+ 1):\n",
        "    print(' ', end='')\n",
        "  for j in range(1, 1+i):\n",
        "    print('*', end='')\n",
        "  print()\n",
        "for i in range(numero, 0, -1):\n",
        "  for j in range(i, numero):\n",
        "    print(\" \", end=\"\")\n",
        "  for j in range(1, (i*2)-1):\n",
        "    print('*', end='')\n",
        "  print()"
      ],
      "metadata": {
        "colab": {
          "base_uri": "https://localhost:8080/"
        },
        "id": "OdRy4MgdPlgM",
        "outputId": "76e96092-148d-4ba0-e58d-20c1937655fd"
      },
      "execution_count": 4,
      "outputs": [
        {
          "output_type": "stream",
          "name": "stdout",
          "text": [
            "ingresa un número: 5\n",
            " **   **\n",
            "**** ****\n",
            "********\n",
            " ******\n",
            "  ****\n",
            "   **\n",
            "    \n"
          ]
        }
      ]
    },
    {
      "cell_type": "code",
      "source": [
        "#32- con la lista [1,2,3,4,5], mostrar en pantalla [1,9,25]\n",
        "lista=[1, 2, 3, 4, 5]\n",
        "lista2=[]\n",
        "for i in lista [::2]:\n",
        "  lista2.append(i**2)\n",
        "print(lista2)"
      ],
      "metadata": {
        "colab": {
          "base_uri": "https://localhost:8080/"
        },
        "id": "8gCsBxTBPaVs",
        "outputId": "f011a3ec-3cfe-422a-aec9-42a5a5aea802"
      },
      "execution_count": 1,
      "outputs": [
        {
          "output_type": "stream",
          "name": "stdout",
          "text": [
            "[1, 9, 25]\n"
          ]
        }
      ]
    }
  ]
}