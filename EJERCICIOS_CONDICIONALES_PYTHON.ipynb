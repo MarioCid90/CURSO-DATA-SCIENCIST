{
  "nbformat": 4,
  "nbformat_minor": 0,
  "metadata": {
    "colab": {
      "provenance": [],
      "authorship_tag": "ABX9TyOK/BD1vHTlXRGLc1nuH4ox",
      "include_colab_link": true
    },
    "kernelspec": {
      "name": "python3",
      "display_name": "Python 3"
    },
    "language_info": {
      "name": "python"
    }
  },
  "cells": [
    {
      "cell_type": "markdown",
      "metadata": {
        "id": "view-in-github",
        "colab_type": "text"
      },
      "source": [
        "<a href=\"https://colab.research.google.com/github/MarioCid90/EJERCICIOS-DE-INICIACI-N-A-PYTHON/blob/main/EJERCICIOS_CONDICIONALES_PYTHON.ipynb\" target=\"_parent\"><img src=\"https://colab.research.google.com/assets/colab-badge.svg\" alt=\"Open In Colab\"/></a>"
      ]
    },
    {
      "cell_type": "code",
      "source": [
        "#1- Crea dos variables, cada una con un número. Usando condicionales que te digan\n",
        "#si los números son iguales o no\n",
        "x = int(input('Escribe un numero: '))\n",
        "y = int(input('Escribe otro numero: '))\n",
        "\n",
        "if x==y:\n",
        "  print('Los dos numeros son iguales')\n",
        "else:\n",
        "  print('Los dos numeros son diferentes')"
      ],
      "metadata": {
        "colab": {
          "base_uri": "https://localhost:8080/"
        },
        "id": "Lx44VEjgzU-L",
        "outputId": "84aeaa1c-e5e7-47e3-f9ef-e564c60158d0"
      },
      "execution_count": 8,
      "outputs": [
        {
          "output_type": "stream",
          "name": "stdout",
          "text": [
            "Escribe un numero: 2\n",
            "Escribe otro numero: 2\n",
            "Los dos numeros son iguales\n"
          ]
        }
      ]
    },
    {
      "cell_type": "code",
      "source": [
        "#2- Crea una variable con el valor de un buleano True o False. Dependiendo del que escribas\n",
        "\n",
        "eres_casada= True\n",
        "\n",
        "if eres_casada:\n",
        "  print('Tu estas casada')\n",
        "\n",
        "else:\n",
        "  print('Tu eres soltera')"
      ],
      "metadata": {
        "colab": {
          "base_uri": "https://localhost:8080/"
        },
        "id": "SNHhNr3AzZEr",
        "outputId": "fcd66167-dcdb-4c8e-dedb-2a07923bafae"
      },
      "execution_count": 10,
      "outputs": [
        {
          "output_type": "stream",
          "name": "stdout",
          "text": [
            "Tu estas casada\n"
          ]
        }
      ]
    },
    {
      "cell_type": "code",
      "source": [
        "#3- Igual que el ejercicio 2 pero le damos el atributo de altura también y todas\n",
        "#posibles las opciones\n",
        "\n",
        "estas_casada = True\n",
        "eres_alta = False\n",
        "\n",
        "if estas_casada and eres_alta:\n",
        "    print('Tu eres una mujer casada y alta')\n",
        "elif not estas_casada and eres_alta:\n",
        "    print('Tu eres una mujer soltera y eres alta')\n",
        "elif estas_casada and not eres_alta:\n",
        "    print('Tu eres una mujer soltera y no eres alta')\n",
        "else:\n",
        "  print('Tu ni estas casada ni eres alta')"
      ],
      "metadata": {
        "colab": {
          "base_uri": "https://localhost:8080/"
        },
        "id": "sjPG_Sc7zmqj",
        "outputId": "467ff576-9917-4e6c-813b-1437aef48605"
      },
      "execution_count": 15,
      "outputs": [
        {
          "output_type": "stream",
          "name": "stdout",
          "text": [
            "Escribe tu altura: 190\n",
            "Tu eres una mujer soltera y no eres alta\n"
          ]
        }
      ]
    },
    {
      "cell_type": "code",
      "source": [
        "#4- Crea un input donde escribir una temperatura y un condicional que te diga si\n",
        "#a esa temperatura hace frío o calor\n",
        "\n",
        "temp = int(input('Escribe una temperatura '))\n",
        "\n",
        "if temp< 12:\n",
        "  print('Frio')\n",
        "\n",
        "else:\n",
        "  print('No hace frio')"
      ],
      "metadata": {
        "colab": {
          "base_uri": "https://localhost:8080/"
        },
        "id": "4HY-umXLzuCb",
        "outputId": "37623fc2-5374-4c0e-b247-85256f92eeb2"
      },
      "execution_count": 17,
      "outputs": [
        {
          "output_type": "stream",
          "name": "stdout",
          "text": [
            "Escribe una temperatura 13\n",
            "No hace frio\n"
          ]
        }
      ]
    },
    {
      "cell_type": "code",
      "source": [
        "#5- Misma operación que el ejercicio 4 pero incluyendo muy frío\n",
        "temp = 0\n",
        "\n",
        "if temp <= 0:\n",
        "\t   print ('Muy frio')\n",
        "elif temp < 25:\n",
        "\t   print ('Frio')\n",
        "else:\n",
        "\t   print ('Calor')"
      ],
      "metadata": {
        "colab": {
          "base_uri": "https://localhost:8080/"
        },
        "id": "f2r50aF1zvyL",
        "outputId": "ea311988-ba78-4e80-fd7e-9d388a9b4608"
      },
      "execution_count": 18,
      "outputs": [
        {
          "output_type": "stream",
          "name": "stdout",
          "text": [
            "Muy frio\n"
          ]
        }
      ]
    },
    {
      "cell_type": "code",
      "source": [
        "#6- Crea una calculadora con un input para cada número y el operador matemático\n",
        "#que se va a usar y con condicionales que te devuelva la solución de la operación\n",
        "\n",
        "num1 = float(input('Escribe un numero:  '))\n",
        "operador = input('Escribe el operador:  ')       #Este si debe ser un string\n",
        "num2 = float(input('Escribe otro numero:  '))\n",
        "\n",
        "\n",
        "\n",
        "if operador == '+': #si queremos que num1 y num 2 sumen\n",
        "     print(num1 + num2)\n",
        "elif operador == '–':\n",
        "      print(num1 - num2) #Si queremos que num1 y num2 resten, dividan multipliquen\n",
        "elif operador== 'x':\n",
        "      print(num1 * num2)\n",
        "elif operador== '/':\n",
        "      print(num1/num2)\n",
        "elif operador== '**':\n",
        "      print(num1**num2)\n",
        "elif operador== '%':\n",
        "      print(num1%num2)\n",
        "else:\n",
        "      print('Operador nulo')"
      ],
      "metadata": {
        "colab": {
          "base_uri": "https://localhost:8080/"
        },
        "id": "FdHU_rhPz4Wf",
        "outputId": "520dbe92-6f9a-4665-fcc7-101902025963"
      },
      "execution_count": 22,
      "outputs": [
        {
          "output_type": "stream",
          "name": "stdout",
          "text": [
            "Escribe un numero:  5\n",
            "Escribe el operador:  x\n",
            "Escribe otro numero:  5\n",
            "25.0\n"
          ]
        }
      ]
    },
    {
      "cell_type": "code",
      "source": [
        "#7- Crea un input para introducir una palabra y con condicionales que te devuelva si\n",
        "#la palabra es larga, corta o mediana.\n",
        "#Además si la letra inicial es a lo debe indicar, también si la letra final es s y la del medio es 'e'\n",
        "palabra =input('introduce una palabra ')\n",
        "if len(palabra) > 7:        #primer parámetro al que queremos que haga caso,\n",
        "  print('la palabra es larga')\n",
        "  if palabra[len(palabra)//2] == 'e':\n",
        "    print('la letra central es \"e\"')\n",
        "elif len(palabra) >= 4 <= 7:\n",
        "  print('la palabra es mediana') #si no lo cumple pasa acomprobar elif (mediana)\n",
        "else:\n",
        "  print('la palabra es corta')  #,si no al else (corta)\n",
        "if palabra[0].lower() == 'a':   #primer parámetro al que queremos que respete (empieza por 'a')\n",
        "  print('la palabra empieza por \"a\"')\n",
        "if palabra[-1].lower() == 's':  #Si además termina por 's' también nos lo indicará. Si este if estuviera indentado,\n",
        "   print('la palabra termina en \"s\"')   #tendría que cumplirse el primero para entrar elsegundo.\n",
        "\n"
      ],
      "metadata": {
        "colab": {
          "base_uri": "https://localhost:8080/"
        },
        "id": "76tNqoAvz_Qd",
        "outputId": "b01ead91-c644-4d49-a920-964b1fdd29a3"
      },
      "execution_count": 30,
      "outputs": [
        {
          "output_type": "stream",
          "name": "stdout",
          "text": [
            "introduce una palabra as\n",
            "la palabra es corta\n",
            "la palabra empieza por \"a\"\n",
            "la palabra termina en \"s\"\n"
          ]
        }
      ]
    },
    {
      "cell_type": "code",
      "source": [
        "#8- Crear un condicional que nos diga si la nota que ha sacado un alumno es\n",
        "#insuficiente, suficiente, bien, notable o sobresaliente\n",
        "calificacion = float(input(\"Ingresa tu calificación (0-10): \"))\n",
        "\n",
        "if 9 <= calificacion <= 10:\n",
        "    print(\"Sobresaliente\")\n",
        "elif 7 <= calificacion < 9:\n",
        "    print(\"Notable\")\n",
        "elif 6 <= calificacion < 7:\n",
        "    print(\"Bien\")\n",
        "elif 5 <= calificacion < 6:\n",
        "    print(\"Suficiente\")\n",
        "elif 0 <= calificacion < 5:\n",
        "    print(\"Insuficiente\")\n",
        "else:\n",
        "    print(\"Calificación insuficiente\")"
      ],
      "metadata": {
        "colab": {
          "base_uri": "https://localhost:8080/"
        },
        "id": "oZOI-Xpo0BDT",
        "outputId": "06e2ef44-e927-455a-b4b0-7e52078fe8e7"
      },
      "execution_count": 31,
      "outputs": [
        {
          "output_type": "stream",
          "name": "stdout",
          "text": [
            "Ingresa tu calificación (0-10): 8\n",
            "Notable\n"
          ]
        }
      ]
    },
    {
      "cell_type": "code",
      "source": [
        "#9- Crea una variable que te pida una palabra y un condicional que diga si esta palabra es palíndromo o no\n",
        "\n",
        "\n",
        "Palabra1 = input('Ingresa una palabra ').lower()\n",
        "\n",
        "if Palabra1[:]==Palabra1[::-1]:\n",
        "  print(f'La palabra {Palabra1} es un palíndromo')\n",
        "  pass\n",
        "else:\n",
        "  print(f'La palabra {Palabra1} no es un palíndromo')\n"
      ],
      "metadata": {
        "colab": {
          "base_uri": "https://localhost:8080/"
        },
        "id": "AxusGNbG0CwL",
        "outputId": "1be480ad-1df2-4cd4-bcbe-33588807f6b4"
      },
      "execution_count": 39,
      "outputs": [
        {
          "output_type": "stream",
          "name": "stdout",
          "text": [
            "Ingresa una palabra reconocer\n",
            "La palabra reconocer es un palíndromo\n"
          ]
        }
      ]
    },
    {
      "cell_type": "code",
      "source": [
        "#10- Crear una variable dond eintroducir un año y un condicional que no diga si\n",
        "#este año es bisiesto o no.\n",
        "\n",
        "año = int(input(\"Introduce un año: \"))\n",
        "\n",
        "# Determinar si el año es bisiesto\n",
        "if (año % 4 == 0 and año % 100 != 0) or (año % 400 == 0):\n",
        "    print(f\"El año {año} es bisiesto.\")\n",
        "else:\n",
        "    print(f\"El año {año} no es bisiesto.\")"
      ],
      "metadata": {
        "colab": {
          "base_uri": "https://localhost:8080/"
        },
        "id": "FlcbuWJb0HEk",
        "outputId": "4f4cd712-c224-4770-c102-b95d968795d7"
      },
      "execution_count": 47,
      "outputs": [
        {
          "output_type": "stream",
          "name": "stdout",
          "text": [
            "Introduce un año: 1492\n",
            "El año 1492 es bisiesto.\n"
          ]
        }
      ]
    },
    {
      "cell_type": "code",
      "source": [
        "#11- Crea una variable que pregunte que prenda desea el cliente\n",
        "#y otra con una lista de prendas. En un condicional indicar\n",
        "# Caules de las prendas de vestir están disponibles en la tienda y cuales no\n",
        "prendas_buscadas = input(\"¿Qué prenda de vestir estás buscando? \").lower()\n",
        "prendas_disponibles = ('camiseta', 'pantalón', 'sudadera', 'botas')\n",
        "\n",
        "# Verificar si la prenda está disponible y mostrar un mensaje\n",
        "if prendas_buscadas in prendas_disponibles:\n",
        "    print(f\"¡Sí, tenemos {prendas_buscadas} disponible!\")\n",
        "else:\n",
        "    print(f\"Lo sentimos, no tenemos {prendas_buscadas} en este momento.\")"
      ],
      "metadata": {
        "colab": {
          "base_uri": "https://localhost:8080/"
        },
        "id": "0qrqKGyo0LC7",
        "outputId": "7e356ef9-1d67-41cd-c75a-1300523ce9a9"
      },
      "execution_count": 48,
      "outputs": [
        {
          "output_type": "stream",
          "name": "stdout",
          "text": [
            "¿Qué prenda de vestir estás buscando? camiseta\n",
            "¡Sí, tenemos camiseta disponible!\n"
          ]
        }
      ]
    },
    {
      "cell_type": "code",
      "source": [
        "#13- Crea una variable donde se pueda introducir refresco o cerveza.\n",
        "#con si es alcoholicndo de la respuesta recibiras una nueva pregunta relacionada\n",
        "# o no si es cerveza o si es cocacola o naranja si es bebidaa dependie\n",
        "bebida=input('¿Que quieres beber refresco o cerveza? ')\n",
        "\n",
        "if bebida == 'cerveza':\n",
        "  bebida=input('¿prefieres con o sin? ')\n",
        "  if bebida=='con':\n",
        "    bebida=input('Estrella o Mahou ')\n",
        "    print(f'su cerveza {bebida} será servida')\n",
        "  else:\n",
        "    bebida=input('Heineken o estrella ')\n",
        "    print(f'su cerveza {bebida} será servida')\n",
        "else:\n",
        "  bebida=input('prefieres naranja o cocacola ')\n",
        "  print(f'su refresco de {bebida} será servido')"
      ],
      "metadata": {
        "colab": {
          "base_uri": "https://localhost:8080/"
        },
        "id": "qgIWNtUw0Poz",
        "outputId": "42ad115e-2ba8-4a45-9528-b0b8d9fa4440"
      },
      "execution_count": 63,
      "outputs": [
        {
          "output_type": "stream",
          "name": "stdout",
          "text": [
            "¿Que quieres beber refresco o cerveza? cerveza\n",
            "¿prefieres con o sin? sin\n",
            "Heineken o estrella estrella\n",
            "su cerveza estrella será servida\n"
          ]
        }
      ]
    },
    {
      "cell_type": "code",
      "source": [
        "#14-Con una variable que te pide un año calcular si este es bisiesto o no\n",
        "año=int(input('escribe un número '))\n",
        "if(año % 4  == 0 and año % 100 != 0) or año % 400 == 0:\n",
        "  print('el año es bisiesto')\n",
        "else:\n",
        "  print('el año no es bisiesto')"
      ],
      "metadata": {
        "colab": {
          "base_uri": "https://localhost:8080/"
        },
        "id": "7EavnVPF0WZj",
        "outputId": "c17a1e5c-e34a-4953-f640-8280814ab4e4"
      },
      "execution_count": 65,
      "outputs": [
        {
          "output_type": "stream",
          "name": "stdout",
          "text": [
            "escribe un número 1492\n",
            "el año es bisiesto\n"
          ]
        }
      ]
    }
  ]
}