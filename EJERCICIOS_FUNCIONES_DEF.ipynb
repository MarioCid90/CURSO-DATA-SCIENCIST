{
  "nbformat": 4,
  "nbformat_minor": 0,
  "metadata": {
    "colab": {
      "provenance": [],
      "authorship_tag": "ABX9TyO/UChX8LFKRSwbNY0a5tKZ",
      "include_colab_link": true
    },
    "kernelspec": {
      "name": "python3",
      "display_name": "Python 3"
    },
    "language_info": {
      "name": "python"
    }
  },
  "cells": [
    {
      "cell_type": "markdown",
      "metadata": {
        "id": "view-in-github",
        "colab_type": "text"
      },
      "source": [
        "<a href=\"https://colab.research.google.com/github/MarioCid90/CURSO-DATA-SCIENCIST/blob/main/EJERCICIOS_FUNCIONES_DEF.ipynb\" target=\"_parent\"><img src=\"https://colab.research.google.com/assets/colab-badge.svg\" alt=\"Open In Colab\"/></a>"
      ]
    },
    {
      "cell_type": "code",
      "execution_count": null,
      "metadata": {
        "colab": {
          "base_uri": "https://localhost:8080/"
        },
        "id": "dBmBzRpRgIxD",
        "outputId": "00dbb45a-b083-477a-b8ad-ab7684490851"
      },
      "outputs": [
        {
          "output_type": "stream",
          "name": "stdout",
          "text": [
            "introduce un número: 7\n",
            "14\n"
          ]
        }
      ],
      "source": [
        "#1- Crear función para introducir un número y que de de resultado el doble.\n",
        "def mostrar_doble(num):\n",
        "  print(num*2)\n",
        "mostrar_doble(int(input('introduce un número: ')))\n"
      ]
    },
    {
      "cell_type": "code",
      "source": [
        "#2-Crear una función que sume, reste, multiplique o divida dos números introducidos\n",
        "def suma(a, b):\n",
        "  return a+b #sustetuyelo por *, - o //\n",
        "resultado=suma(int(input('introduce un número: ')),int(input('introduce otro número: ')))\n",
        "print(resultado)"
      ],
      "metadata": {
        "colab": {
          "base_uri": "https://localhost:8080/"
        },
        "id": "KX56Rcr-gkux",
        "outputId": "91ca5e6e-e946-4cc0-e43f-86a78c8b43af"
      },
      "execution_count": null,
      "outputs": [
        {
          "output_type": "stream",
          "name": "stdout",
          "text": [
            "introduce un número: 1\n",
            "introduce otro número: 2\n",
            "3\n"
          ]
        }
      ]
    },
    {
      "cell_type": "code",
      "source": [
        "#3-Saca el cubo del número que introduzcas\n",
        "def cube(num):\n",
        "  return num*num*num\n",
        "print(cube(int(input('introduce un número: '))))"
      ],
      "metadata": {
        "id": "u1BmMPE5gnHh",
        "colab": {
          "base_uri": "https://localhost:8080/"
        },
        "outputId": "c20ed173-452e-4295-bc7c-f8c78eea3ab4"
      },
      "execution_count": null,
      "outputs": [
        {
          "output_type": "stream",
          "name": "stdout",
          "text": [
            "introduce un número: 6\n",
            "216\n"
          ]
        }
      ]
    },
    {
      "cell_type": "code",
      "source": [
        "#4- pedir lista de palabras e imprimirlas al revés\n",
        "\n",
        "def imprimir_al_reves(lista_palabras):\n",
        "    for palabra in lista_palabras[::-1]:\n",
        "        print(palabra[::-1])\n",
        "\n",
        "# Ejemplo de uso\n",
        "palabras = [\"Madrid\", \"Sevilla\", \"Valencia\"]\n",
        "imprimir_al_reves(palabras)"
      ],
      "metadata": {
        "id": "J8lPvzu9gtH5",
        "colab": {
          "base_uri": "https://localhost:8080/"
        },
        "outputId": "ae06494f-3928-4811-c328-b741f5a23db3"
      },
      "execution_count": null,
      "outputs": [
        {
          "output_type": "stream",
          "name": "stdout",
          "text": [
            "aicnelaV\n",
            "alliveS\n",
            "dirdaM\n"
          ]
        }
      ]
    },
    {
      "cell_type": "code",
      "source": [
        "#-5 Crea una función que teniendo 3 números nos imprima el número que su valor es del medio.\n",
        "\n",
        "def med_num(num1, num2, num3):\n",
        "  if num1>=num2 and num1<=num3:\n",
        "    return num1\n",
        "  elif num2>=num1 and num2<=num3:\n",
        "    return num2\n",
        "  else:\n",
        "    return num3\n",
        "\n",
        "med_num(int(input('introduce un número: ')),int(input('introduce otro: ')), int(input('y otro: ')))"
      ],
      "metadata": {
        "colab": {
          "base_uri": "https://localhost:8080/"
        },
        "id": "nhmJplnRmGGz",
        "outputId": "3fc67558-f63b-4275-b456-457085e0fe64"
      },
      "execution_count": null,
      "outputs": [
        {
          "name": "stdout",
          "output_type": "stream",
          "text": [
            "introduce un número: 2\n",
            "introduce otro: 1\n",
            "y otro: 6\n"
          ]
        },
        {
          "output_type": "execute_result",
          "data": {
            "text/plain": [
              "2"
            ]
          },
          "metadata": {},
          "execution_count": 4
        }
      ]
    },
    {
      "cell_type": "code",
      "source": [
        "#-6 Crea una función en la que pidas un número y su potencia y te imprima el resultado.\n",
        "def potencia(x, y):\n",
        "  print(x**y)\n",
        "potencia(int(input('introduce un número: ')),int(input('introduce la potencia: ')))"
      ],
      "metadata": {
        "colab": {
          "base_uri": "https://localhost:8080/"
        },
        "id": "HoRly81jmO3r",
        "outputId": "3fda72e4-af0b-4502-9e39-03af9759954a"
      },
      "execution_count": null,
      "outputs": [
        {
          "output_type": "stream",
          "name": "stdout",
          "text": [
            "introduce un número: 4\n",
            "introduce la potencia: 3\n",
            "64\n"
          ]
        }
      ]
    },
    {
      "cell_type": "code",
      "source": [
        "# -7 Relacion entre dos numeros, si uno es mayor o menor que el otro o si son iguales\n",
        "\n",
        "def relación(x, y):\n",
        "  if x>y:\n",
        "    print(f'{x} es mayor que {y}')\n",
        "  elif x<y:\n",
        "    print(f'{x} es menor que {y}')\n",
        "  else:\n",
        "    print(f'{x} y {y} son iguales')\n",
        "\n",
        "relación(2, 6)"
      ],
      "metadata": {
        "colab": {
          "base_uri": "https://localhost:8080/"
        },
        "id": "lKlkzzgUmzau",
        "outputId": "070df533-c717-4bba-92d5-aa2daacef33b"
      },
      "execution_count": null,
      "outputs": [
        {
          "output_type": "stream",
          "name": "stdout",
          "text": [
            "2 es menor que 6\n"
          ]
        }
      ]
    },
    {
      "cell_type": "code",
      "source": [
        "#8- Crear una función en la que introduces 3 notas de un alumno y calcular la nota media final de esas 3 notas introducidas\n",
        "a=int(input('nota1: '))\n",
        "b=int(input('nota2: '))\n",
        "c=int(input('nota3: '))\n",
        "def notas(a, b, c):\n",
        "  return a*30/100 + b*20/100 + c*50/100\n",
        "\n",
        "notas(a, b, c)"
      ],
      "metadata": {
        "colab": {
          "base_uri": "https://localhost:8080/"
        },
        "id": "WEMI5FRem8nG",
        "outputId": "b2829724-a02f-4222-9737-fff9002eb061"
      },
      "execution_count": null,
      "outputs": [
        {
          "name": "stdout",
          "output_type": "stream",
          "text": [
            "nota1: 6\n",
            "nota2: 7\n",
            "nota3: 8\n"
          ]
        },
        {
          "output_type": "execute_result",
          "data": {
            "text/plain": [
              "7.2"
            ]
          },
          "metadata": {},
          "execution_count": 7
        }
      ]
    },
    {
      "cell_type": "code",
      "source": [
        "#9- Calcula el área de un rectangulo introduciendo primero la base y la altura del triángulo.\n",
        "\n",
        "base=int(input('introduce la base: '))\n",
        "altura=int(input('introduce la altura: '))\n",
        "def area (base, altura):\n",
        "  return base * altura / 2\n",
        "print(area(base, altura))"
      ],
      "metadata": {
        "colab": {
          "base_uri": "https://localhost:8080/"
        },
        "id": "Y3JGYEOunCQ_",
        "outputId": "ce34c1d8-7aef-46b9-9f28-c778e6e9c19d"
      },
      "execution_count": null,
      "outputs": [
        {
          "output_type": "stream",
          "name": "stdout",
          "text": [
            "introduce la base: 7\n",
            "introduce la altura: 43\n",
            "150.5\n"
          ]
        }
      ]
    },
    {
      "cell_type": "code",
      "source": [
        "#10- Define una función que calcule el facorial de un numero\n",
        "\n",
        "#CON FOR\n",
        "\n",
        "fac=int(input('numero: '))\n",
        "def factor(fac):\n",
        "  putamadre=1\n",
        "  for i in range(fac, 0, -1):\n",
        "    putamadre *= i\n",
        "    print(i, end=' ')\n",
        "    if i >1:\n",
        "      print('x', end=' ')\n",
        "    else:\n",
        "      print('=', end=' ')\n",
        "  return putamadre\n",
        "factor(fac)"
      ],
      "metadata": {
        "id": "lpun98i-nJF-",
        "colab": {
          "base_uri": "https://localhost:8080/"
        },
        "outputId": "cca69b47-ce20-4f7f-fc53-bc3746643c51"
      },
      "execution_count": null,
      "outputs": [
        {
          "output_type": "stream",
          "name": "stdout",
          "text": [
            "numero: 4\n",
            "4 x 3 x 2 x 1 = "
          ]
        },
        {
          "output_type": "execute_result",
          "data": {
            "text/plain": [
              "24"
            ]
          },
          "metadata": {},
          "execution_count": 8
        }
      ]
    },
    {
      "cell_type": "code",
      "source": [
        "# 11- secuencia de fibonaci con def y for (serie infinita de números naturales que empieza con un 0 y un 1 y continúa añadiendo números que son la suma de los dos anteriores)\n",
        "\n",
        "fac=int(input('numero: '))\n",
        "def factor(fac):\n",
        "  fibonaci=[0, 1]\n",
        "  for i in range(2, fac):\n",
        "    i = fibonaci[-1] + fibonaci[-2]\n",
        "    fibonaci.append(i)\n",
        "\n",
        "  return fibonaci[:fac]\n",
        "fibonaci=factor(fac)\n",
        "print(fac, fibonaci)"
      ],
      "metadata": {
        "id": "2wpuRwCMZnns",
        "colab": {
          "base_uri": "https://localhost:8080/"
        },
        "outputId": "8261d04b-cab3-45fb-83e6-9f2398e0dac3"
      },
      "execution_count": null,
      "outputs": [
        {
          "output_type": "stream",
          "name": "stdout",
          "text": [
            "numero: 5\n",
            "5 [0, 1, 1, 2, 3]\n"
          ]
        }
      ]
    },
    {
      "cell_type": "code",
      "source": [
        "# 12-Importar librería math y calcular el área de un círculo\n",
        "radio = int(input('escribe el radio del circulo: ')) #creamos una variable y le damos un valor\n",
        "import math #importar librería math\n",
        "def calcular_area_circulo(radio): #creasfuncion y le das el valor 'radio'\n",
        "    area = math.pi * radio ** 2 #Calculo de la operación para sacar el area del circulo\n",
        "    return area #\n",
        "area_del_circulo = calcular_area_circulo(radio) #creamos una variable yle damos el valor de la función creada\n",
        "print(\"El área del círculo con radio\", radio, \"es:\", area_del_circulo, 'cm2')\n"
      ],
      "metadata": {
        "colab": {
          "base_uri": "https://localhost:8080/"
        },
        "id": "pFCForKDZiAj",
        "outputId": "1c0b6b98-e89c-41ac-9237-51cf0f782aa1"
      },
      "execution_count": null,
      "outputs": [
        {
          "output_type": "stream",
          "name": "stdout",
          "text": [
            "escribe el radio del circulo: 10\n",
            "El área del círculo con radio 10 es: 314.1592653589793 cm2\n"
          ]
        }
      ]
    },
    {
      "cell_type": "code",
      "source": [
        "#13- define una función que diga cuantas veces se repite una letra de una palabra:\n",
        "\n",
        "palabra = input('escribe una palabra: ')\n",
        "letra_a_contar = input('escribe una letra contenida en la palabra: ')\n",
        "resultado = contar_letra_en_palabra(palabra, letra_a_contar)\n",
        "def contar_letra_en_palabra(palabra, letra):\n",
        "    contador = 0\n",
        "    for caracter in palabra:\n",
        "        if caracter == letra:\n",
        "            contador += 1\n",
        "    return contador\n",
        "print(f\"La letra '{letra_a_contar}' se repite {resultado} veces en la palabra '{palabra}'.\")"
      ],
      "metadata": {
        "id": "Ojjo5UxsZYNh",
        "colab": {
          "base_uri": "https://localhost:8080/"
        },
        "outputId": "5d152d16-852b-45b5-ebf9-757ca706f80a"
      },
      "execution_count": null,
      "outputs": [
        {
          "output_type": "stream",
          "name": "stdout",
          "text": [
            "escribe una palabra: palabra\n",
            "escribe una letra contenida en la palabra: a\n",
            "La letra 'a' se repite 3 veces en la palabra 'palabra'.\n"
          ]
        }
      ]
    },
    {
      "cell_type": "code",
      "source": [
        "#14- Define una funcion que le de lavuelta a una palabra:\n",
        "palabra = input('escribe una palabra: ')\n",
        "\n",
        "def invertir_palabra(palabra):\n",
        "    palabra_invertida = palabra[::-1]\n",
        "    return palabra_invertida\n",
        "\n",
        "palabra_invertida = invertir_palabra(palabra)\n",
        "\n",
        "print(\"Palabra invertida:\", palabra_invertida)"
      ],
      "metadata": {
        "colab": {
          "base_uri": "https://localhost:8080/"
        },
        "id": "DOXgjRUWZSCZ",
        "outputId": "8816ae90-ce57-451f-da55-f2a334db465a"
      },
      "execution_count": null,
      "outputs": [
        {
          "output_type": "stream",
          "name": "stdout",
          "text": [
            "escribe una palabra: COLABORAR\n",
            "Palabra invertida: RAROBALOC\n"
          ]
        }
      ]
    },
    {
      "cell_type": "code",
      "source": [
        "#15-Define una funcion que cuenta el numero de vocales de una palabra\n",
        "palabra = input('escribe una palabra: ')\n",
        "def contar_vocales(palabra):\n",
        "    vocales = \"aeiouAEIOU\"  # Lista de vocales tanto en minúsculas como en mayúsculas\n",
        "    contador = 0\n",
        "    for letra in palabra:\n",
        "        if letra in vocales:\n",
        "            contador += 1\n",
        "    return contador\n",
        "\n",
        "numero_vocales = contar_vocales(palabra)\n",
        "print(f\"El número de vocales en la palabra '{palabra}' es: {numero_vocales}\")"
      ],
      "metadata": {
        "id": "fN-Tlh2Nt16c",
        "colab": {
          "base_uri": "https://localhost:8080/"
        },
        "outputId": "9de4ba6a-d4b4-4e46-b7cf-407148cc5c35"
      },
      "execution_count": null,
      "outputs": [
        {
          "output_type": "stream",
          "name": "stdout",
          "text": [
            "escribe una palabra: cincuenta\n",
            "El número de vocales en la palabra 'cincuenta' es: 4\n"
          ]
        }
      ]
    },
    {
      "cell_type": "code",
      "source": [
        "#16- Funcion que calcule el iva de una compra de un precio introducido.\n",
        "\n",
        "precio_producto =int(input('ingresa el precio de la compra: '))\n",
        "tasa_iva = int(input('ingresa el % de IVA medio de tu compra: '))\n",
        "\n",
        "def calcular_iva(a, b):\n",
        "  iva = a * (b / 100)\n",
        "\n",
        "  return f\"El IVA del producto que cuesta {a} € con una tasa de IVA del {b} % es: {iva} €\"\n",
        "\n",
        "calcular_iva(precio_producto, tasa_iva)"
      ],
      "metadata": {
        "id": "Z2kJwLbZtvYE",
        "colab": {
          "base_uri": "https://localhost:8080/",
          "height": 72
        },
        "outputId": "689f811b-1d12-4923-86b4-4ee1148c181d"
      },
      "execution_count": null,
      "outputs": [
        {
          "name": "stdout",
          "output_type": "stream",
          "text": [
            "ingresa el precio de la compra: 90\n",
            "ingresa el % de IVA medio de tu compra: 21\n"
          ]
        },
        {
          "output_type": "execute_result",
          "data": {
            "text/plain": [
              "'El IVA del producto que cuesta 90 € con una tasa de IVA del 21 % es: 18.9 €'"
            ],
            "application/vnd.google.colaboratory.intrinsic+json": {
              "type": "string"
            }
          },
          "metadata": {},
          "execution_count": 18
        }
      ]
    },
    {
      "cell_type": "code",
      "source": [
        "#17- Define una función que cree una tabla de multiplicar del número que introduzcas\n",
        "\n",
        "def tabla_mult(a):\n",
        "  for i in range(1, 11):\n",
        "    resultado = a * i\n",
        "    print(f'{a} x {i}= {resultado}')\n",
        "tabla_mult(int(input('introduce un número: ')))"
      ],
      "metadata": {
        "id": "Yhp2njy_tqwn",
        "colab": {
          "base_uri": "https://localhost:8080/"
        },
        "outputId": "6205ff09-6086-41aa-ec8c-c7907d040273"
      },
      "execution_count": null,
      "outputs": [
        {
          "output_type": "stream",
          "name": "stdout",
          "text": [
            "introduce un número: 8\n",
            "8 x 1= 8\n",
            "8 x 2= 16\n",
            "8 x 3= 24\n",
            "8 x 4= 32\n",
            "8 x 5= 40\n",
            "8 x 6= 48\n",
            "8 x 7= 56\n",
            "8 x 8= 64\n",
            "8 x 9= 72\n",
            "8 x 10= 80\n"
          ]
        }
      ]
    },
    {
      "cell_type": "code",
      "source": [
        "# 18- Crea una lista de numeros y multiplicalos entre si.\n",
        "\n",
        "lista=[2, 3, 4, 5]\n",
        "def mult(a):\n",
        "  numeros=1\n",
        "  for i in a:\n",
        "    numeros = numeros * i\n",
        "  return f'el resultado de multiplicar {a} es: {numeros}'\n",
        "mult(lista)\n"
      ],
      "metadata": {
        "id": "2IXegVnwtobI",
        "colab": {
          "base_uri": "https://localhost:8080/",
          "height": 36
        },
        "outputId": "839ee656-81e3-45cc-c5e6-9192703f2a71"
      },
      "execution_count": null,
      "outputs": [
        {
          "output_type": "execute_result",
          "data": {
            "text/plain": [
              "'el resultado de multiplicar [2, 3, 4, 5] es: 120'"
            ],
            "application/vnd.google.colaboratory.intrinsic+json": {
              "type": "string"
            }
          },
          "metadata": {},
          "execution_count": 21
        }
      ]
    },
    {
      "cell_type": "code",
      "source": [
        "# 19- Crea una funcion que indique cuantos numeros pares hay en la lista\n",
        "\n",
        "def pares(a):\n",
        "  contador=0\n",
        "  for i in a:\n",
        "    if i % 2 == 0:\n",
        "      contador += 1\n",
        "  return contador\n",
        "lista=[1, 2, 3, 4, 5, 6, 7, 8]\n",
        "pares_lista = pares(lista)\n",
        "print(f'en {lista} hay {pares_lista} numeros pares')"
      ],
      "metadata": {
        "id": "OlqmwlZUtVOh",
        "colab": {
          "base_uri": "https://localhost:8080/"
        },
        "outputId": "6e7b38e1-3159-4c4f-ec27-823ac00690a3"
      },
      "execution_count": null,
      "outputs": [
        {
          "output_type": "stream",
          "name": "stdout",
          "text": [
            "en [1, 2, 3, 4, 5, 6, 7, 8] hay 4 numeros pares\n"
          ]
        }
      ]
    },
    {
      "cell_type": "code",
      "source": [
        "#20- funcion que calcule si un año es bisiesto\n",
        "año=int(input('escribe un año: '))\n",
        "def bisiesto(a):\n",
        "  if (año % 4 == 0 and año % 100 != 0) or (año % 400 == 0):\n",
        "    return True\n",
        "  else:\n",
        "    return False\n",
        "if bisiesto(año):\n",
        "  print(f'el año {año} es bisiesto')\n",
        "else:\n",
        "  print(f'el año {año} no es bisiesto')"
      ],
      "metadata": {
        "id": "lAplMNTwtSMR",
        "colab": {
          "base_uri": "https://localhost:8080/"
        },
        "outputId": "e92317fd-867f-4193-f887-c4cc57daf5de"
      },
      "execution_count": null,
      "outputs": [
        {
          "output_type": "stream",
          "name": "stdout",
          "text": [
            "escribe un año: 1990\n",
            "el año 1990 no es bisiesto\n"
          ]
        }
      ]
    },
    {
      "cell_type": "code",
      "source": [
        "#21- Función que cuente el numero de caracteres ,palabras de un texto\n",
        "\n",
        "def contar_palabras_caracteres(texto):\n",
        "    palabras = texto.split()\n",
        "    numero_palabras = len(palabras)\n",
        "    numero_caracteres = len(texto)\n",
        "    return numero_palabras, numero_caracteres\n",
        "\n",
        "# Ejemplo de uso\n",
        "texto = 'Don Quijote y Sancho acaban de salir del Toboso (2ª parte, capítulo X). El escudero ha convencido a su señor de que se embosque en una floresta cercana mientras él va en busca de los huidizos alcázares de Dulcinea, que no han podido encontrar de noche; él le dirá a su señora cómo queda el caballero andante esperando que ella le dé orden y traza para verla “sin menoscabo de su honra y fama”. Don Quijote le da precisas recomendaciones a su escudero para que observe la reacción, los mínimos gestos de la dama –entre ellos, ver “si levanta la mano al cabello para componerle aunque no esté desordenado”–, y pueda luego él averiguar lo que esconde su corazón. ¡Don Quijote se muestra profundo conocedor de la psicología femenina! Dejamos al caballero sobre Rocinante, quieto, esperando, apoyado en su lanza, y seguimos a Sancho. Nada más salir del bosque, se apea del rucio y se sienta al pie de un árbol. Va a empezar un soliloquio espléndido: esa es la escena que enmarco. En un diálogo consigo mismo, que inicia con un “Sepamos agora, Sancho hermano, adónde va vuesa merced”, se pregunta adónde va, qué es lo que pretende y las posibilidades que tiene de conseguirlo y de salir bien parado de ello. Cualquier resumen o comentario no sólo traiciona, sino que anula la gracia extraordinaria del monólogo de Sancho: hay que leerlo. Acaba imaginándose los palos que le darían los toboseños si se enteraban de que quería “sonsacarles sus princesas”. Un expresivo “¡Oxte, puto! ¡Allá darás rayo!” culmina esa parte de su reflexión (tan loca como la orden de su amo); pero le sigue un tranquilizador y sensato razonamiento sobre la imposibilidad de encontrar a Dulcinea en el Toboso (ni en ninguna parte). Y una vez derrumbado el peligroso castillo de naipes que le puso el miedo en el cuerpo, aflora en Sancho el sentido común; echa mano de un refrán, “todas las cosas tienen remedio, si no es la muerte”, y se pone a ello. Parte de un razonamiento impecable: su amo es un loco de atar, y él, que le sigue y le sirve, un mentecato. Si su amo toma unas cosas por otras y piensa que los molinos son gigantes, él le hará creer que la primera labradora que pase por el camino es su señora Dulcinea. Y si don Quijote se niega a aceptarlo, él jurará que así es y acudirá a los mismos encantadores de los que habla su amo para explicar la transformación. Ese cambiante Sancho, que va de la locura e ingenuidad a la sensatez y agudeza, y que acaba siendo un maravilloso tracista, siempre me admira y me divierte enormemente. Y dicho y hecho: Sancho pone en marcha el encantamiento de Dulcinea, y los hados –o su creador– le proporcionan en seguida el medio para hacerlo: tres labradoras sobre tres “pollinos o pollinas” se acercan por el camino. No tiene más que ir a paso tirado en busca de su señor para empezar su papel de encantador, o de Chanfalla en un nuevo retablo de maravillas. Pero esta es otra escena, que también puede ser una de mis preferidas…¡son tantas! Lo que sucede es que esa resolución de Sancho va a ser decisiva para sus vidas, y para nosotros, sus lectores. No dejen de comprobarlo.'\n",
        "num_palabras, num_caracteres = contar_palabras_caracteres(texto)\n",
        "print(f\"Número de palabras: {num_palabras}\")\n",
        "print(f\"Número de caracteres: {num_caracteres}\")"
      ],
      "metadata": {
        "colab": {
          "base_uri": "https://localhost:8080/"
        },
        "id": "2xliL7ZrEpcs",
        "outputId": "6d3bb545-4982-4da7-c409-ef08e4966c89"
      },
      "execution_count": null,
      "outputs": [
        {
          "output_type": "stream",
          "name": "stdout",
          "text": [
            "Número de palabras: 554\n",
            "Número de caracteres: 3095\n"
          ]
        }
      ]
    },
    {
      "cell_type": "code",
      "source": [
        "# 22- Crea una clase rectangulo que tenga atributos de ancho y alto y metodos de calcular area y perimetro:\n",
        "\n",
        "class Rectangulo:\n",
        "  def __init__(self, alto, ancho):\n",
        "    self.alto=alto\n",
        "    self.ancho=ancho\n",
        "\n",
        "  def calcular_area(self):\n",
        "    print(f'El área del Rectangulo es {self.alto * self.ancho}')\n",
        "\n",
        "  def calcular_perimetro(self):\n",
        "     print(f'El perímetro del Rectangulo es {2*(self.alto + self.ancho)}')\n",
        "\n",
        "mi_rectangulo = Rectangulo(6, 10)\n",
        "mi_rectangulo.calcular_area()\n",
        "mi_rectangulo.calcular_perimetro()"
      ],
      "metadata": {
        "id": "cOf3jfVitAKw",
        "colab": {
          "base_uri": "https://localhost:8080/"
        },
        "outputId": "b6839ada-7a8c-45bd-d8e8-7063f07ba9fa"
      },
      "execution_count": null,
      "outputs": [
        {
          "output_type": "stream",
          "name": "stdout",
          "text": [
            "El área del Rectangulo es 60\n",
            "El perímetro del Rectangulo es 32\n"
          ]
        }
      ]
    },
    {
      "cell_type": "code",
      "source": [
        "#23- Crea clase estudiante con 3 atributos, 4 metodos y 4 objetos\n",
        "\n",
        "class estudiante:\n",
        "  def __init__(self, Nombre, Apellidos, Edad, Ciudad):\n",
        "    self.nombre=Nombre\n",
        "    self.apellidos=Apellidos\n",
        "    self.edad=Edad\n",
        "    self.ciudad=Ciudad\n",
        "  def su_nombre(self):\n",
        "    print(f'Nombre: {self.nombre}')\n",
        "  def su_apellido(self):\n",
        "    print(f'Apellido: {self.apellidos}')\n",
        "  def su_edad(self):\n",
        "    print(f'Edad: {self.edad}')\n",
        "  def su_ciudad(self):\n",
        "    print(f'Ciudad: {self.ciudad}')\n",
        "\n",
        "sus_datos=estudiante('Marco', 'Perez', '18', 'Barcelona')\n",
        "sus_datos2=estudiante('Juan', 'Martín', '20','Madrid')\n",
        "sus_datos3=estudiante('Alberto', 'Cid', '40', 'Ciudad Real')\n",
        "sus_datos4=estudiante('Carlos', 'Candelas', '34', 'Badajoz')\n",
        "\n",
        "sus_datos.su_nombre()\n",
        "sus_datos2.su_apellido()\n",
        "sus_datos2.su_edad()\n",
        "sus_datos2.su_ciudad()"
      ],
      "metadata": {
        "id": "Qkkgzw7es-KM",
        "colab": {
          "base_uri": "https://localhost:8080/"
        },
        "outputId": "f563657e-105a-4c7f-ddfc-a086681cbf26"
      },
      "execution_count": null,
      "outputs": [
        {
          "output_type": "stream",
          "name": "stdout",
          "text": [
            "Nombre: Marco\n",
            "Apellido: Martín\n",
            "Edad: 20\n",
            "Ciudad: Madrid\n"
          ]
        }
      ]
    },
    {
      "cell_type": "code",
      "source": [
        "#24- Crear clase calculadora con 2 atributos, varios metodos (sumar, restar, multiplica, dividir)\n",
        "class Calculadora:\n",
        "  def __init__(self):\n",
        "    self.num1=int(input('introduce un número: '))\n",
        "    self.num2=int(input('introduce un número: '))\n",
        "  def suma(self):\n",
        "    print(f'{self.num1}+{self.num2}={self.num1+self.num2}')\n",
        "  def resta(self):\n",
        "    (f'{self.num1}-{self.num2}={self.num1*self.num2}')\n",
        "  def mult(self):\n",
        "    print(f'{self.num1}x{self.num2}={self.num1*self.num2}')\n",
        "  def div(self):\n",
        "    (f'{self.num1}:{self.num2}={self.num1/self.num2}')\n",
        "\n",
        "Mi_calculo = Calculadora()\n",
        "Mi_calculo.suma()\n",
        "Mi_calculo.mult()"
      ],
      "metadata": {
        "id": "M-KlKXWWs2bE",
        "colab": {
          "base_uri": "https://localhost:8080/"
        },
        "outputId": "7900882a-87ed-4e7b-dfce-485859ad2775"
      },
      "execution_count": null,
      "outputs": [
        {
          "output_type": "stream",
          "name": "stdout",
          "text": [
            "introduce un número: 3\n",
            "introduce un número: 4\n",
            "3+4=7\n",
            "3x4=12\n"
          ]
        }
      ]
    },
    {
      "cell_type": "code",
      "source": [
        "#25- Crear una clase 'Alumno' con 3 Atributos que imprima los datos indicados y si con la nota que tiene está aprobado o no.\n",
        "\n",
        "class Alumno:\n",
        "  def inicializar(self,Nombre,Apellidos,Nota):\n",
        "    self.nombre=Nombre #input('Introduce el nombre: ')\n",
        "    self.apellido=Apellidos #input('apellido: ')\n",
        "    self.nota=Nota #int(input('nota: '))\n",
        "  def imprimir(self):\n",
        "    print(f'Nombre: {self.nombre}')\n",
        "    print(f'Apellidos: {self.apellido}')\n",
        "    print(f'Nota: {self.nota}')\n",
        "\n",
        "  def resultado(self):\n",
        "    if self.nota >=5:\n",
        "      print('El alumno está aprobado')\n",
        "    else:\n",
        "      print('El alumno está suspenso')\n",
        "\n",
        "\n",
        "alumno1=Alumno()\n",
        "alumno2=Alumno()\n",
        "\n",
        "alumno1.inicializar('Mario', 'Cid', 8)\n",
        "alumno2.inicializar('Carlos', 'Vozmediano', 4)\n",
        "\n",
        "alumno1.imprimir()\n",
        "alumno1.resultado()\n",
        "alumno2.imprimir()\n",
        "alumno2.resultado()"
      ],
      "metadata": {
        "id": "GmCxpN_EsrI1",
        "colab": {
          "base_uri": "https://localhost:8080/"
        },
        "outputId": "a7549fdd-81ad-4a47-de4e-2c2555248924"
      },
      "execution_count": null,
      "outputs": [
        {
          "output_type": "stream",
          "name": "stdout",
          "text": [
            "Nombre: Mario\n",
            "Apellidos: Cid\n",
            "Nota: 8\n",
            "El alumno está aprobado\n",
            "Nombre: Carlos\n",
            "Apellidos: Vozmediano\n",
            "Nota: 4\n",
            "El alumno está suspenso\n"
          ]
        }
      ]
    },
    {
      "cell_type": "code",
      "source": [
        "#26- Crear la clase Banco y con la funcion de recibir el dinero que queda en el bqanco según lo que sacas o ingresas.\n",
        "class Banco:\n",
        "    def __init__(self):\n",
        "        self.saldo_total = 0\n",
        "\n",
        "    def ingresar(self, cantidad):\n",
        "        if cantidad > 0:\n",
        "            self.saldo_total += cantidad\n",
        "            print(f\"Ingresados: {cantidad}. Saldo total: {self.saldo_total}\")\n",
        "        else:\n",
        "            print(\"La cantidad a ingresar debe ser positiva.\")\n",
        "\n",
        "    def sacar(self, cantidad):\n",
        "        if cantidad > 0:\n",
        "            if cantidad <= self.saldo_total:\n",
        "                self.saldo_total -= cantidad\n",
        "                print(f\"Retirados: {cantidad}. Saldo total: {self.saldo_total}\")\n",
        "            else:\n",
        "                print(\"Saldo insuficiente.\")\n",
        "        else:\n",
        "            print(\"La cantidad a retirar debe ser positiva.\")\n",
        "\n",
        "# Ejemplo de uso\n",
        "mi_banco = Banco()\n",
        "mi_banco.ingresar(1000)\n",
        "mi_banco.sacar(500)\n",
        "mi_banco.sacar(600)\n",
        "mi_banco.ingresar(-50)\n"
      ],
      "metadata": {
        "colab": {
          "base_uri": "https://localhost:8080/"
        },
        "id": "9dv0hQ_QM191",
        "outputId": "82497400-fda6-48f1-937e-8e995931f893"
      },
      "execution_count": null,
      "outputs": [
        {
          "output_type": "stream",
          "name": "stdout",
          "text": [
            "Ingresados: 1000. Saldo total: 1000\n",
            "Retirados: 500. Saldo total: 500\n",
            "Saldo insuficiente.\n",
            "La cantidad a ingresar debe ser positiva.\n"
          ]
        }
      ]
    }
  ]
}