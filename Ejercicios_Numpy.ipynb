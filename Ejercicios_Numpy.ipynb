{
  "nbformat": 4,
  "nbformat_minor": 0,
  "metadata": {
    "colab": {
      "provenance": [],
      "authorship_tag": "ABX9TyMV3ymaacNOHVaZe5foby8P",
      "include_colab_link": true
    },
    "kernelspec": {
      "name": "python3",
      "display_name": "Python 3"
    },
    "language_info": {
      "name": "python"
    }
  },
  "cells": [
    {
      "cell_type": "markdown",
      "metadata": {
        "id": "view-in-github",
        "colab_type": "text"
      },
      "source": [
        "<a href=\"https://colab.research.google.com/github/MarioCid90/EJERCICIOS-DE-INICIACION-A-PYTHON/blob/main/Ejercicios_Numpy.ipynb\" target=\"_parent\"><img src=\"https://colab.research.google.com/assets/colab-badge.svg\" alt=\"Open In Colab\"/></a>"
      ]
    },
    {
      "cell_type": "code",
      "source": [
        "import numpy as np"
      ],
      "metadata": {
        "id": "1VNcaRAilOuz"
      },
      "execution_count": 1,
      "outputs": []
    },
    {
      "cell_type": "code",
      "source": [
        "#1- Crea un array con 4 vectores de 3 números aleatorios del 0 al 1\n",
        "np.random.rand(4,3)\n"
      ],
      "metadata": {
        "colab": {
          "base_uri": "https://localhost:8080/"
        },
        "id": "bFSizjLEjLQU",
        "outputId": "aa30f4e9-55f0-4ad7-92e3-149fad3c001d"
      },
      "execution_count": null,
      "outputs": [
        {
          "output_type": "execute_result",
          "data": {
            "text/plain": [
              "array([[0.04802223, 0.84001278, 0.33408703],\n",
              "       [0.48971875, 0.38963342, 0.20567753],\n",
              "       [0.39845362, 0.45106456, 0.08770577],\n",
              "       [0.12123969, 0.37762936, 0.08365099]])"
            ]
          },
          "metadata": {},
          "execution_count": 27
        }
      ]
    },
    {
      "cell_type": "code",
      "source": [
        "#2- Crea un array de valores ordenados del 0 al 4\n",
        "np.arange(5)"
      ],
      "metadata": {
        "colab": {
          "base_uri": "https://localhost:8080/"
        },
        "id": "1-xmOOKml-_B",
        "outputId": "d13efdd6-af85-4740-9086-e44cbbb03481"
      },
      "execution_count": null,
      "outputs": [
        {
          "output_type": "execute_result",
          "data": {
            "text/plain": [
              "array([0, 1, 2, 3, 4])"
            ]
          },
          "metadata": {},
          "execution_count": 20
        }
      ]
    },
    {
      "cell_type": "code",
      "source": [
        "#3-Crea un array de valores del 2 al 15\n",
        "np.arange(2,16)"
      ],
      "metadata": {
        "colab": {
          "base_uri": "https://localhost:8080/"
        },
        "id": "AlAH0kVbmPx5",
        "outputId": "639b51ce-3d4b-46e5-e155-1dde49d5a475"
      },
      "execution_count": null,
      "outputs": [
        {
          "output_type": "execute_result",
          "data": {
            "text/plain": [
              "array([ 2,  3,  4,  5,  6,  7,  8,  9, 10, 11, 12, 13, 14, 15])"
            ]
          },
          "metadata": {},
          "execution_count": 22
        }
      ]
    },
    {
      "cell_type": "code",
      "execution_count": null,
      "metadata": {
        "colab": {
          "base_uri": "https://localhost:8080/"
        },
        "id": "0_WaV0rQbf-R",
        "outputId": "d468b02a-3e5d-4d42-c6aa-b7dde24b5d56"
      },
      "outputs": [
        {
          "output_type": "execute_result",
          "data": {
            "text/plain": [
              "array([0.        , 0.05263158, 0.10526316, 0.15789474, 0.21052632,\n",
              "       0.26315789, 0.31578947, 0.36842105, 0.42105263, 0.47368421,\n",
              "       0.52631579, 0.57894737, 0.63157895, 0.68421053, 0.73684211,\n",
              "       0.78947368, 0.84210526, 0.89473684, 0.94736842, 1.        ])"
            ]
          },
          "metadata": {},
          "execution_count": 25
        }
      ],
      "source": [
        "#4- crea un array de 20 valores lineales entre 0 y 1\n",
        "\n",
        "np.linspace(0,1,20)\n"
      ]
    },
    {
      "cell_type": "code",
      "source": [
        "#5- Crea una variable de un array de 25 cifras solo con números enteros que vaya del 0 al 17\n",
        "\n",
        "a=np.linspace(0, 17 ,25, dtype=int)"
      ],
      "metadata": {
        "id": "nkbnBzjmnJ-h"
      },
      "execution_count": null,
      "outputs": []
    },
    {
      "cell_type": "code",
      "source": [],
      "metadata": {
        "id": "AbDy9EY-LYwp"
      },
      "execution_count": null,
      "outputs": []
    },
    {
      "cell_type": "code",
      "source": [
        "#6- Ordena de manera inversa el array creado en el ejercicio 6 con .sort\n",
        "\n",
        "np.sort(a)[::-1]"
      ],
      "metadata": {
        "colab": {
          "base_uri": "https://localhost:8080/"
        },
        "id": "sMJCBQWdoPvw",
        "outputId": "734933ce-3449-42d1-a2d8-2c95a95a6b08"
      },
      "execution_count": null,
      "outputs": [
        {
          "output_type": "execute_result",
          "data": {
            "text/plain": [
              "array([17, 16, 15, 14, 14, 13, 12, 12, 11, 10,  9,  9,  8,  7,  7,  6,  5,\n",
              "        4,  4,  3,  2,  2,  1,  0,  0])"
            ]
          },
          "metadata": {},
          "execution_count": 38
        }
      ]
    },
    {
      "cell_type": "code",
      "source": [
        "#7- Crea una variable con un array de dos vectores y 3 cifras con números enteros aleatorios\n",
        "a=np.random.randint(10, size=(2,3))\n",
        "a"
      ],
      "metadata": {
        "colab": {
          "base_uri": "https://localhost:8080/"
        },
        "id": "usObnmVkpclZ",
        "outputId": "110e6f23-99c2-4503-ac98-55f6c91dba1c"
      },
      "execution_count": null,
      "outputs": [
        {
          "output_type": "execute_result",
          "data": {
            "text/plain": [
              "array([[8, 6, 0],\n",
              "       [0, 4, 2]])"
            ]
          },
          "metadata": {},
          "execution_count": 9
        }
      ]
    },
    {
      "cell_type": "code",
      "source": [
        "#-8-Muestra el array anterior ordenado por filas\n",
        "np.sort(a, axis=0)\n"
      ],
      "metadata": {
        "colab": {
          "base_uri": "https://localhost:8080/"
        },
        "id": "rDzj38e9pyXo",
        "outputId": "fdcc103c-c9cb-4cc9-a2a4-8dab6951d1d1"
      },
      "execution_count": null,
      "outputs": [
        {
          "output_type": "execute_result",
          "data": {
            "text/plain": [
              "array([[0, 4, 0],\n",
              "       [8, 6, 2]])"
            ]
          },
          "metadata": {},
          "execution_count": 10
        }
      ]
    },
    {
      "cell_type": "code",
      "source": [
        "#9-Muestra el array anterior ordenado por columnas\n",
        "np.sort(a, axis=1)\n"
      ],
      "metadata": {
        "colab": {
          "base_uri": "https://localhost:8080/"
        },
        "id": "exmlOst1qNDv",
        "outputId": "3a230294-f7fe-40b1-8f55-e8869a332dfd"
      },
      "execution_count": null,
      "outputs": [
        {
          "output_type": "execute_result",
          "data": {
            "text/plain": [
              "array([[0, 6, 8],\n",
              "       [0, 2, 4]])"
            ]
          },
          "metadata": {},
          "execution_count": 11
        }
      ]
    },
    {
      "cell_type": "code",
      "source": [
        "#10-Muestra el array anterior ordenado por filas de manera descendente\n",
        "np.sort(a, axis=1)[::-1]"
      ],
      "metadata": {
        "id": "7UKjXmygqVWf",
        "colab": {
          "base_uri": "https://localhost:8080/"
        },
        "outputId": "40ecf218-46a0-41e0-bb9e-870a1a557e25"
      },
      "execution_count": null,
      "outputs": [
        {
          "output_type": "execute_result",
          "data": {
            "text/plain": [
              "array([[0, 2, 4],\n",
              "       [0, 6, 8]])"
            ]
          },
          "metadata": {},
          "execution_count": 12
        }
      ]
    },
    {
      "cell_type": "code",
      "source": [
        "#11-Crea dos array de un solo vector y 6 cifras cada uno y concaténalos en un solo vector\n",
        "\n",
        "a=np.array([1,2,3,4])\n",
        "b=np.array([5,6,7,8])\n",
        "\n",
        "np.concatenate((a,b))\n"
      ],
      "metadata": {
        "colab": {
          "base_uri": "https://localhost:8080/"
        },
        "id": "XvmfaTu2mK7S",
        "outputId": "1ae34a6b-1c8f-48ec-d52f-a500a6f460e8"
      },
      "execution_count": null,
      "outputs": [
        {
          "output_type": "execute_result",
          "data": {
            "text/plain": [
              "array([1, 2, 3, 4, 5, 6, 7, 8])"
            ]
          },
          "metadata": {},
          "execution_count": 21
        }
      ]
    },
    {
      "cell_type": "code",
      "source": [
        "#12-crea dos arrays con dos vectores cada uno y concatenalos\n",
        "# en una sola matriz dividiendolos por filas\n",
        "a=np.array([[1,2],[3,4]])\n",
        "b=np.array([[5,6],[7,8]])\n",
        "\n",
        "np.concatenate((a,b))\n"
      ],
      "metadata": {
        "colab": {
          "base_uri": "https://localhost:8080/"
        },
        "id": "H-wuhckWOWLQ",
        "outputId": "1e84053b-2b7a-48f9-e728-1f3bcfee7dd4"
      },
      "execution_count": null,
      "outputs": [
        {
          "output_type": "execute_result",
          "data": {
            "text/plain": [
              "array([[1, 2],\n",
              "       [3, 4],\n",
              "       [5, 6],\n",
              "       [7, 8]])"
            ]
          },
          "metadata": {},
          "execution_count": 27
        }
      ]
    },
    {
      "cell_type": "code",
      "source": [
        "#13- Misma operación que en el 12 pero ordenado por columnas\n",
        "np.concatenate((a,b), axis=1)"
      ],
      "metadata": {
        "colab": {
          "base_uri": "https://localhost:8080/"
        },
        "id": "elWpPwSQMYfN",
        "outputId": "42d9ebaa-7269-4af7-9c9f-8129c865a539"
      },
      "execution_count": null,
      "outputs": [
        {
          "output_type": "execute_result",
          "data": {
            "text/plain": [
              "array([[1, 2, 5, 6],\n",
              "       [3, 4, 7, 8]])"
            ]
          },
          "metadata": {},
          "execution_count": 28
        }
      ]
    },
    {
      "cell_type": "code",
      "source": [
        "#14- Elimina la tercera columna del resultado del ejercicio anterior\n",
        "np.delete(np.concatenate((a,b), axis=1),2, axis=1)\n"
      ],
      "metadata": {
        "colab": {
          "base_uri": "https://localhost:8080/"
        },
        "id": "UatRxpvDPqAJ",
        "outputId": "b305ef4b-db24-42ac-aba8-933e3e2aa91c"
      },
      "execution_count": null,
      "outputs": [
        {
          "output_type": "execute_result",
          "data": {
            "text/plain": [
              "array([[1, 2, 6],\n",
              "       [3, 4, 8]])"
            ]
          },
          "metadata": {},
          "execution_count": 30
        }
      ]
    },
    {
      "cell_type": "code",
      "source": [
        "#15-Crea un array de 3 cifras y añadele 2 cifras extra\n",
        "a=np.array([1,2,3])\n",
        "np.append(a, [4,5])\n",
        "\n"
      ],
      "metadata": {
        "colab": {
          "base_uri": "https://localhost:8080/"
        },
        "id": "WGexFXgkQk3E",
        "outputId": "0d73a8f7-73f6-4704-d2c8-3217f9ef9255"
      },
      "execution_count": null,
      "outputs": [
        {
          "output_type": "execute_result",
          "data": {
            "text/plain": [
              "array([1, 2, 3, 4, 5])"
            ]
          },
          "metadata": {},
          "execution_count": 32
        }
      ]
    },
    {
      "cell_type": "code",
      "source": [
        "#16- Crea una matriz bidimensional, después le añades un vector más\n",
        "a=np.array([[1,2,3],[4,5,6],[7,8,9]])\n",
        "np.append(a, [[10,11,12]], axis=0)\n"
      ],
      "metadata": {
        "colab": {
          "base_uri": "https://localhost:8080/"
        },
        "id": "V-d_Ffg3Rcm3",
        "outputId": "74c25b7c-472c-46e3-cfa3-ebd0ec0f00a4"
      },
      "execution_count": null,
      "outputs": [
        {
          "output_type": "execute_result",
          "data": {
            "text/plain": [
              "array([[ 1,  2,  3],\n",
              "       [ 4,  5,  6],\n",
              "       [ 7,  8,  9],\n",
              "       [10, 11, 12]])"
            ]
          },
          "metadata": {},
          "execution_count": 35
        }
      ]
    },
    {
      "cell_type": "code",
      "source": [
        "#17- Crea un array 5 cifras, después le añades el número 33 en la posición 4\n",
        "a=np.array([1,2,3,4,5])\n",
        "np.insert(a,4,33)"
      ],
      "metadata": {
        "colab": {
          "base_uri": "https://localhost:8080/"
        },
        "id": "UyBAeiRTR8ok",
        "outputId": "bc3e9faa-223e-4401-84ff-e8db0c6fad4e"
      },
      "execution_count": null,
      "outputs": [
        {
          "output_type": "execute_result",
          "data": {
            "text/plain": [
              "array([ 1,  2,  3,  4, 33,  5])"
            ]
          },
          "metadata": {},
          "execution_count": 37
        }
      ]
    },
    {
      "cell_type": "code",
      "source": [
        "#18- Crea un array bidimensional e incluye el número 0 en la posición 1 de cada vector\n",
        "a=np.array([[1,2,3],[4,5,6],[7,8,9]])\n",
        "np.insert(a,1,0, axis=1)"
      ],
      "metadata": {
        "colab": {
          "base_uri": "https://localhost:8080/"
        },
        "id": "36KpCmy3ScOu",
        "outputId": "8e06c0a9-847f-496c-f23c-31e53329221f"
      },
      "execution_count": null,
      "outputs": [
        {
          "output_type": "execute_result",
          "data": {
            "text/plain": [
              "array([[1, 0, 2, 3],\n",
              "       [4, 0, 5, 6],\n",
              "       [7, 0, 8, 9]])"
            ]
          },
          "metadata": {},
          "execution_count": 38
        }
      ]
    },
    {
      "cell_type": "markdown",
      "source": [
        "19- Usa las funciones específicas para:"
      ],
      "metadata": {
        "id": "fueO9G1MTxJR"
      }
    },
    {
      "cell_type": "code",
      "source": [
        "#A- Mostrar número de dimensiones del anterior array\n",
        "a.ndim"
      ],
      "metadata": {
        "colab": {
          "base_uri": "https://localhost:8080/"
        },
        "id": "f2hFG593S9WW",
        "outputId": "80c4edcf-f5a0-4d0c-b904-e7222bcd4cfb"
      },
      "execution_count": null,
      "outputs": [
        {
          "output_type": "execute_result",
          "data": {
            "text/plain": [
              "2"
            ]
          },
          "metadata": {},
          "execution_count": 40
        }
      ]
    },
    {
      "cell_type": "code",
      "source": [
        "#B- mostrar número de elementos del anterior array\n",
        "a.size"
      ],
      "metadata": {
        "colab": {
          "base_uri": "https://localhost:8080/"
        },
        "id": "hS6zMQHiT7Ch",
        "outputId": "14aec23f-3f13-43c7-baba-cb5793d85254"
      },
      "execution_count": null,
      "outputs": [
        {
          "output_type": "execute_result",
          "data": {
            "text/plain": [
              "9"
            ]
          },
          "metadata": {},
          "execution_count": 41
        }
      ]
    },
    {
      "cell_type": "code",
      "source": [
        "#C- Mostrar una tupla con las dimensiones del anterior array\n",
        "a.shape"
      ],
      "metadata": {
        "colab": {
          "base_uri": "https://localhost:8080/"
        },
        "id": "F3coTBCCT-Vb",
        "outputId": "8c3d14c3-b419-4a00-b6c2-7f5c55c580e7"
      },
      "execution_count": null,
      "outputs": [
        {
          "output_type": "execute_result",
          "data": {
            "text/plain": [
              "(3, 3)"
            ]
          },
          "metadata": {},
          "execution_count": 42
        }
      ]
    },
    {
      "cell_type": "code",
      "source": [
        "#20- Crea una matriz de 9 elementos ordenados del 0 al 8\n",
        "a=np.arange(9)"
      ],
      "metadata": {
        "id": "TS4IzCzhUBS3"
      },
      "execution_count": null,
      "outputs": []
    },
    {
      "cell_type": "markdown",
      "source": [],
      "metadata": {
        "id": "Jprq9KgyQWjN"
      }
    },
    {
      "cell_type": "code",
      "source": [
        "#21- Crea una matriz con 3 vectores usando la matriz anterior\n",
        "b=a.reshape(3,3)\n",
        "b"
      ],
      "metadata": {
        "colab": {
          "base_uri": "https://localhost:8080/"
        },
        "id": "2lA9xFjqUyXz",
        "outputId": "d7354d25-9f0f-4cc8-a623-908d59109958"
      },
      "execution_count": null,
      "outputs": [
        {
          "output_type": "execute_result",
          "data": {
            "text/plain": [
              "array([[0, 1, 2],\n",
              "       [3, 4, 5],\n",
              "       [6, 7, 8]])"
            ]
          },
          "metadata": {},
          "execution_count": 46
        }
      ]
    },
    {
      "cell_type": "code",
      "source": [
        "#22- Crea un array de 3 matrices con 3 vectores y 3 elementos cada una\n",
        "\n",
        "a=np.arange(27).reshape(3,3,3)\n",
        "a"
      ],
      "metadata": {
        "colab": {
          "base_uri": "https://localhost:8080/"
        },
        "id": "pqMN_r1XVNh4",
        "outputId": "13cfee70-903b-48af-d700-a76c36fdb05c"
      },
      "execution_count": null,
      "outputs": [
        {
          "output_type": "execute_result",
          "data": {
            "text/plain": [
              "array([[[ 0,  1,  2],\n",
              "        [ 3,  4,  5],\n",
              "        [ 6,  7,  8]],\n",
              "\n",
              "       [[ 9, 10, 11],\n",
              "        [12, 13, 14],\n",
              "        [15, 16, 17]],\n",
              "\n",
              "       [[18, 19, 20],\n",
              "        [21, 22, 23],\n",
              "        [24, 25, 26]]])"
            ]
          },
          "metadata": {},
          "execution_count": 50
        }
      ]
    },
    {
      "cell_type": "code",
      "source": [
        "#23- Muestra los el elemento 1 del vector 2 de cada una de las matrices\n",
        "a[:,1,1]"
      ],
      "metadata": {
        "colab": {
          "base_uri": "https://localhost:8080/"
        },
        "id": "MqsOiBLfWfmy",
        "outputId": "516beec6-9e37-41b0-df6f-16570e3d5ab2"
      },
      "execution_count": null,
      "outputs": [
        {
          "output_type": "execute_result",
          "data": {
            "text/plain": [
              "array([ 4, 13, 22])"
            ]
          },
          "metadata": {},
          "execution_count": 53
        }
      ]
    },
    {
      "cell_type": "code",
      "source": [
        "#24- Muestrame el tercer elemento de cada vector\n",
        "a[:,:,2]"
      ],
      "metadata": {
        "colab": {
          "base_uri": "https://localhost:8080/"
        },
        "id": "i6J_iV8aW-uw",
        "outputId": "0940ccc1-578c-43e2-935a-b4226b611445"
      },
      "execution_count": null,
      "outputs": [
        {
          "output_type": "execute_result",
          "data": {
            "text/plain": [
              "array([[ 2,  5,  8],\n",
              "       [11, 14, 17],\n",
              "       [20, 23, 26]])"
            ]
          },
          "metadata": {},
          "execution_count": 58
        }
      ]
    },
    {
      "cell_type": "code",
      "source": [
        "#25- Crea dos matrices de 4 submatrices 3 vectores cada matriz y 4 cifras cada matriz\n",
        "data=np.arange(0, 96).reshape(2,4,3,4)\n",
        "data\n"
      ],
      "metadata": {
        "colab": {
          "base_uri": "https://localhost:8080/"
        },
        "id": "SaWKv8gjX8lh",
        "outputId": "955eaa01-7c38-4fa4-9e03-c2ba39478d83"
      },
      "execution_count": 3,
      "outputs": [
        {
          "output_type": "execute_result",
          "data": {
            "text/plain": [
              "array([[[[ 0,  1,  2,  3],\n",
              "         [ 4,  5,  6,  7],\n",
              "         [ 8,  9, 10, 11]],\n",
              "\n",
              "        [[12, 13, 14, 15],\n",
              "         [16, 17, 18, 19],\n",
              "         [20, 21, 22, 23]],\n",
              "\n",
              "        [[24, 25, 26, 27],\n",
              "         [28, 29, 30, 31],\n",
              "         [32, 33, 34, 35]],\n",
              "\n",
              "        [[36, 37, 38, 39],\n",
              "         [40, 41, 42, 43],\n",
              "         [44, 45, 46, 47]]],\n",
              "\n",
              "\n",
              "       [[[48, 49, 50, 51],\n",
              "         [52, 53, 54, 55],\n",
              "         [56, 57, 58, 59]],\n",
              "\n",
              "        [[60, 61, 62, 63],\n",
              "         [64, 65, 66, 67],\n",
              "         [68, 69, 70, 71]],\n",
              "\n",
              "        [[72, 73, 74, 75],\n",
              "         [76, 77, 78, 79],\n",
              "         [80, 81, 82, 83]],\n",
              "\n",
              "        [[84, 85, 86, 87],\n",
              "         [88, 89, 90, 91],\n",
              "         [92, 93, 94, 95]]]])"
            ]
          },
          "metadata": {},
          "execution_count": 3
        }
      ]
    },
    {
      "cell_type": "code",
      "source": [
        "#26- Del anterior array muéstrame los números 50 y 70\n",
        "data[1, [0,1], [0,2], 2]"
      ],
      "metadata": {
        "colab": {
          "base_uri": "https://localhost:8080/"
        },
        "id": "Jy7EeUDsp680",
        "outputId": "2aa10ba3-8b2e-49e0-85a1-f78e67ce8d39"
      },
      "execution_count": 4,
      "outputs": [
        {
          "output_type": "execute_result",
          "data": {
            "text/plain": [
              "array([50, 70])"
            ]
          },
          "metadata": {},
          "execution_count": 4
        }
      ]
    },
    {
      "cell_type": "code",
      "source": [
        "#27- Del mismo array muéstrame 48, 50, 68, 70\n",
        "data[1,[0,0,1,1],[0,0,2,2],[0,2,0,2]]"
      ],
      "metadata": {
        "colab": {
          "base_uri": "https://localhost:8080/"
        },
        "id": "wDwLopucq2nd",
        "outputId": "d0727aa1-363e-4e2d-945d-82e0dbeebb2b"
      },
      "execution_count": 5,
      "outputs": [
        {
          "output_type": "execute_result",
          "data": {
            "text/plain": [
              "array([48, 50, 68, 70])"
            ]
          },
          "metadata": {},
          "execution_count": 5
        }
      ]
    },
    {
      "cell_type": "markdown",
      "source": [
        "28- Crea un array que sea una matriz con 4 vectores y 4 cifras por vector y realiza las siguientes operaciones"
      ],
      "metadata": {
        "id": "JoExIowNs_rz"
      }
    },
    {
      "cell_type": "code",
      "source": [
        "#A-Crea el Array e indica con booleanos cuales son menores de 5 y cuales no\n",
        "a=np.array([[1,2,3,4],[5,6,7,8],[9,10,11,12]])\n",
        "a<5"
      ],
      "metadata": {
        "colab": {
          "base_uri": "https://localhost:8080/"
        },
        "id": "21U5Et8irp50",
        "outputId": "3fbf18dc-7102-4aaf-82d2-518004e8f379"
      },
      "execution_count": 6,
      "outputs": [
        {
          "output_type": "execute_result",
          "data": {
            "text/plain": [
              "array([[ True,  True,  True,  True],\n",
              "       [False, False, False, False],\n",
              "       [False, False, False, False]])"
            ]
          },
          "metadata": {},
          "execution_count": 6
        }
      ]
    },
    {
      "cell_type": "code",
      "source": [
        "#B-Muestra los valores menores de 5\n",
        "a[a<5]"
      ],
      "metadata": {
        "colab": {
          "base_uri": "https://localhost:8080/"
        },
        "id": "UrknSAj7ttdS",
        "outputId": "4af8dc91-e358-4b2f-c580-16a8287a2282"
      },
      "execution_count": 9,
      "outputs": [
        {
          "output_type": "execute_result",
          "data": {
            "text/plain": [
              "array([ 6,  7,  8,  9, 10, 11, 12])"
            ]
          },
          "metadata": {},
          "execution_count": 9
        }
      ]
    },
    {
      "cell_type": "code",
      "source": [
        "#C- Muestra los números pares\n",
        "a[a%2==0]"
      ],
      "metadata": {
        "colab": {
          "base_uri": "https://localhost:8080/"
        },
        "id": "cDyGB1gWt_ki",
        "outputId": "9ddba06f-b403-4c21-fad2-6e72e37c6ae9"
      },
      "execution_count": 10,
      "outputs": [
        {
          "output_type": "execute_result",
          "data": {
            "text/plain": [
              "array([ 2,  4,  6,  8, 10, 12])"
            ]
          },
          "metadata": {},
          "execution_count": 10
        }
      ]
    },
    {
      "cell_type": "code",
      "source": [
        "#D- Muestra números impares y mayores que 7\n",
        "a[(a%2!=0) & (a>7)]\n"
      ],
      "metadata": {
        "colab": {
          "base_uri": "https://localhost:8080/"
        },
        "id": "FjpqdwwDuH-h",
        "outputId": "470c0995-9bfa-4e3d-fcf5-cbd839f4d22e"
      },
      "execution_count": 12,
      "outputs": [
        {
          "output_type": "execute_result",
          "data": {
            "text/plain": [
              "array([ 9, 11])"
            ]
          },
          "metadata": {},
          "execution_count": 12
        }
      ]
    },
    {
      "cell_type": "code",
      "source": [
        "#E- Muestra los números pares o que sean menores de 6\n",
        "a[(a%2==0) | (a<6)]\n"
      ],
      "metadata": {
        "colab": {
          "base_uri": "https://localhost:8080/"
        },
        "id": "fNgyKb9FuWlq",
        "outputId": "0d74f3c5-dd47-411c-8d48-fcdba4ef93a8"
      },
      "execution_count": 14,
      "outputs": [
        {
          "output_type": "execute_result",
          "data": {
            "text/plain": [
              "array([ 1,  2,  3,  4,  5,  6,  8, 10, 12])"
            ]
          },
          "metadata": {},
          "execution_count": 14
        }
      ]
    },
    {
      "cell_type": "markdown",
      "source": [
        "29- Crea dos array que se compongan de una matriz de dos vectores con 2 cifras cada uno y realiza las siguientes operaciones"
      ],
      "metadata": {
        "id": "f-HjqdjTvnjY"
      }
    },
    {
      "cell_type": "code",
      "source": [
        "a=np.array([[1,2],[3,4]])\n",
        "b=np.array([[5,6],[7,8]])"
      ],
      "metadata": {
        "id": "AsSGGDb_vl55"
      },
      "execution_count": 15,
      "outputs": []
    },
    {
      "cell_type": "code",
      "source": [
        "#A-Concatena ambos array verticalemte (por filas)\n",
        "np.vstack((a,b))"
      ],
      "metadata": {
        "colab": {
          "base_uri": "https://localhost:8080/"
        },
        "id": "YWBTtlSUuwOh",
        "outputId": "e7fd2e41-c58e-43d9-fd7f-12f878ab46f8"
      },
      "execution_count": 16,
      "outputs": [
        {
          "output_type": "execute_result",
          "data": {
            "text/plain": [
              "array([[1, 2],\n",
              "       [3, 4],\n",
              "       [5, 6],\n",
              "       [7, 8]])"
            ]
          },
          "metadata": {},
          "execution_count": 16
        }
      ]
    },
    {
      "cell_type": "code",
      "source": [
        "#B-Concatenalos ahora de manera horizontal (por columnas)\n",
        "np.hstack((a,b))"
      ],
      "metadata": {
        "colab": {
          "base_uri": "https://localhost:8080/"
        },
        "id": "sH3hUgYxwaAa",
        "outputId": "9ec4e2e5-3dc6-476e-976f-e92aad4b8518"
      },
      "execution_count": 17,
      "outputs": [
        {
          "output_type": "execute_result",
          "data": {
            "text/plain": [
              "array([[1, 2, 5, 6],\n",
              "       [3, 4, 7, 8]])"
            ]
          },
          "metadata": {},
          "execution_count": 17
        }
      ]
    },
    {
      "cell_type": "markdown",
      "source": [
        "30- Crea un array de 48 cifras en orden de 1 al 48 y realiza las siguientes operaciones:"
      ],
      "metadata": {
        "id": "W3e0FbSHwrto"
      }
    },
    {
      "cell_type": "code",
      "source": [
        "a=np.arange(1,49)\n",
        "a"
      ],
      "metadata": {
        "id": "ysKG3A-eT_qH",
        "colab": {
          "base_uri": "https://localhost:8080/"
        },
        "outputId": "5de517a3-7d2c-4d58-f480-0d87504beded"
      },
      "execution_count": 18,
      "outputs": [
        {
          "output_type": "execute_result",
          "data": {
            "text/plain": [
              "array([ 1,  2,  3,  4,  5,  6,  7,  8,  9, 10, 11, 12, 13, 14, 15, 16, 17,\n",
              "       18, 19, 20, 21, 22, 23, 24, 25, 26, 27, 28, 29, 30, 31, 32, 33, 34,\n",
              "       35, 36, 37, 38, 39, 40, 41, 42, 43, 44, 45, 46, 47, 48])"
            ]
          },
          "metadata": {},
          "execution_count": 18
        }
      ]
    },
    {
      "cell_type": "code",
      "source": [
        "#A-Con el anterior array crea 4 vectores de 12 cifras cada uno\n",
        "x=a.reshape(4,12)\n",
        "x\n"
      ],
      "metadata": {
        "colab": {
          "base_uri": "https://localhost:8080/"
        },
        "id": "mtt_U7PBw_ZN",
        "outputId": "f03d34f9-9be6-4637-b327-66529b85e481"
      },
      "execution_count": 23,
      "outputs": [
        {
          "output_type": "execute_result",
          "data": {
            "text/plain": [
              "array([[ 1,  2,  3,  4,  5,  6,  7,  8,  9, 10, 11, 12],\n",
              "       [13, 14, 15, 16, 17, 18, 19, 20, 21, 22, 23, 24],\n",
              "       [25, 26, 27, 28, 29, 30, 31, 32, 33, 34, 35, 36],\n",
              "       [37, 38, 39, 40, 41, 42, 43, 44, 45, 46, 47, 48]])"
            ]
          },
          "metadata": {},
          "execution_count": 23
        }
      ]
    },
    {
      "cell_type": "code",
      "source": [
        "#B- Ahora con 'x' crea 4 matrices de 4 vectores cada una\n",
        "np.hsplit(x,3)"
      ],
      "metadata": {
        "colab": {
          "base_uri": "https://localhost:8080/"
        },
        "id": "sM5-e8vWxeij",
        "outputId": "55e162f7-8ce8-4a5a-c421-b722ef78333f"
      },
      "execution_count": 26,
      "outputs": [
        {
          "output_type": "execute_result",
          "data": {
            "text/plain": [
              "[array([[ 1,  2,  3,  4],\n",
              "        [13, 14, 15, 16],\n",
              "        [25, 26, 27, 28],\n",
              "        [37, 38, 39, 40]]),\n",
              " array([[ 5,  6,  7,  8],\n",
              "        [17, 18, 19, 20],\n",
              "        [29, 30, 31, 32],\n",
              "        [41, 42, 43, 44]]),\n",
              " array([[ 9, 10, 11, 12],\n",
              "        [21, 22, 23, 24],\n",
              "        [33, 34, 35, 36],\n",
              "        [45, 46, 47, 48]])]"
            ]
          },
          "metadata": {},
          "execution_count": 26
        }
      ]
    },
    {
      "cell_type": "code",
      "source": [
        "#C-Y por último con 'x' saca el vector 1 completo\n",
        "np.vsplit(x,4)[1]\n",
        "\n"
      ],
      "metadata": {
        "colab": {
          "base_uri": "https://localhost:8080/"
        },
        "id": "efsIfjKXyH4R",
        "outputId": "976e4e14-1161-4fb9-9677-2011bee51e44"
      },
      "execution_count": 28,
      "outputs": [
        {
          "output_type": "execute_result",
          "data": {
            "text/plain": [
              "array([[13, 14, 15, 16, 17, 18, 19, 20, 21, 22, 23, 24]])"
            ]
          },
          "metadata": {},
          "execution_count": 28
        }
      ]
    },
    {
      "cell_type": "code",
      "source": [],
      "metadata": {
        "id": "RO0rFvLjyvsR"
      },
      "execution_count": null,
      "outputs": []
    }
  ]
}